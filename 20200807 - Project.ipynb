{
 "cells": [
  {
   "cell_type": "markdown",
   "metadata": {},
   "source": [
    "# Is it a really game day without College GameDay?\n",
    "\n",
    "A Data Analytics Programming Project\n",
    "\n",
    "By: Shan Ali, Callie Gilmore, Jocelyne Walker"
   ]
  },
  {
   "cell_type": "markdown",
   "metadata": {},
   "source": [
    "## Setup"
   ]
  },
  {
   "cell_type": "code",
   "execution_count": 63,
   "metadata": {},
   "outputs": [
    {
     "name": "stdout",
     "output_type": "stream",
     "text": [
      "Populating the interactive namespace from numpy and matplotlib\n"
     ]
    },
    {
     "name": "stderr",
     "output_type": "stream",
     "text": [
      "C:\\Users\\jocel\\anaconda3\\lib\\site-packages\\IPython\\core\\magics\\pylab.py:160: UserWarning: pylab import has clobbered these variables: ['ylabel', 'datetime', 'title', 'xlabel']\n",
      "`%matplotlib` prevents importing * from pylab and numpy\n",
      "  \"\\n`%matplotlib` prevents importing * from pylab and numpy\"\n"
     ]
    }
   ],
   "source": [
    "# import libraries\n",
    "from pandas import Series, DataFrame\n",
    "import pandas as pd\n",
    "%pylab inline\n",
    "\n",
    "from datetime import datetime\n",
    "import re\n",
    "\n",
    "# Special packages\n",
    "import statsmodels.api as sm\n",
    "from patsy import dmatrices\n",
    "\n",
    "from sklearn import datasets, linear_model\n",
    "from sklearn.model_selection import train_test_split\n",
    "from matplotlib import pyplot as plt"
   ]
  },
  {
   "cell_type": "code",
   "execution_count": 25,
   "metadata": {},
   "outputs": [],
   "source": [
    "# read data\n",
    "cfb = pd.read_csv('CFBeattendance.csv', encoding= 'unicode_escape').dropna()"
   ]
  },
  {
   "cell_type": "markdown",
   "metadata": {},
   "source": [
    "## Data Wrangling"
   ]
  },
  {
   "cell_type": "markdown",
   "metadata": {},
   "source": [
    "**Clean Opponent**"
   ]
  },
  {
   "cell_type": "code",
   "execution_count": 26,
   "metadata": {},
   "outputs": [],
   "source": [
    "# clean opponent column, ex.'No. 25 Georgia'\n",
    "def opp2conf(s):\n",
    "    x = 0\n",
    "    if len(s.rsplit('*')) is 2:\n",
    "        x = 1\n",
    "    return x\n",
    "\n",
    "def opp_clean(s):\n",
    "    x = re.findall(r'\\w+',s.rstrip('*'))\n",
    "    if x[0] == 'No':\n",
    "        x = x[2:]\n",
    "    return ' '.join(x)\n",
    "\n",
    "cfb['conference_game'] = cfb['Opponent'].apply(opp2conf)\n",
    "cfb['Opponent'] = cfb['Opponent'].apply(opp_clean)\n",
    "#cfb.head()"
   ]
  },
  {
   "cell_type": "markdown",
   "metadata": {},
   "source": [
    "**Clean Rank, TV, Opponent_Rank**"
   ]
  },
  {
   "cell_type": "code",
   "execution_count": 27,
   "metadata": {},
   "outputs": [],
   "source": [
    "# clean Rank, TV, Opponent_Rank\n",
    "def RankToInt(s):\n",
    "    if 'NR' in s:\n",
    "        return 99\n",
    "    else:\n",
    "        return int(s)\n",
    "\n",
    "# set NR team to r = 99\n",
    "cfb['Rank'] = cfb['Rank'].map(RankToInt)\n",
    "cfb['Opponent_Rank'] = cfb['Opponent_Rank'].map(RankToInt)\n",
    "\n",
    "m = cfb.TV.str[:] == 'Not on TV'\n",
    "cfb.loc[~m,'TV'] = 1\n",
    "cfb.loc[m,'TV'] = np.nan\n",
    "#cfb.head()"
   ]
  },
  {
   "cell_type": "code",
   "execution_count": 45,
   "metadata": {},
   "outputs": [],
   "source": [
    "def isRank(s):\n",
    "    if s == 99:\n",
    "        return 0\n",
    "    else:\n",
    "        return 1\n",
    "\n",
    "\n",
    "\n",
    "cfb['isRanked'] = cfb['Rank'].map(isRank)\n",
    "cfb['OppisRanked'] = cfb['Opponent_Rank'].map(isRank)"
   ]
  },
  {
   "cell_type": "markdown",
   "metadata": {},
   "source": [
    "**Clean Result**"
   ]
  },
  {
   "cell_type": "code",
   "execution_count": 29,
   "metadata": {},
   "outputs": [],
   "source": [
    "# clean result\n",
    "# get win dummy\n",
    "cfb['Win'] = 0\n",
    "cfb.loc[cfb.Result.str[0] == 'W','Win'] = 1\n",
    "\n",
    "# get scores\n",
    "cfb['Team_Score'] = cfb['Result'].apply(lambda x: re.findall(r'\\d+',x)[0])\n",
    "cfb['Opp_Score'] = cfb['Result'].apply(lambda x: re.findall(r'\\d+',x)[1])\n",
    "\n",
    "# get OT\n",
    "def get_OT(s):\n",
    "    ot = 0\n",
    "    x = re.findall(r'OT',s)\n",
    "    if x != []:\n",
    "        ot = 1\n",
    "        x = re.findall(r'(\\d+)OT',s)\n",
    "        if x != []:\n",
    "            ot = x[0]\n",
    "    return ot\n",
    "\n",
    "cfb['OT'] = cfb['Result'].apply(get_OT)"
   ]
  },
  {
   "cell_type": "markdown",
   "metadata": {},
   "source": [
    "**Clean New Coach and Tailgating**"
   ]
  },
  {
   "cell_type": "code",
   "execution_count": 30,
   "metadata": {},
   "outputs": [],
   "source": [
    "# clean New Coach and Tailgating\n",
    "cfb['New Coach'] = pd.get_dummies(cfb['New Coach'])[1]\n",
    "cfb['Tailgating'] = pd.get_dummies(cfb['Tailgating'])[1]"
   ]
  },
  {
   "cell_type": "markdown",
   "metadata": {},
   "source": [
    "**Clean Site**"
   ]
  },
  {
   "cell_type": "code",
   "execution_count": 31,
   "metadata": {},
   "outputs": [],
   "source": [
    "# clean Site\n",
    "def site2special(s):\n",
    "    z = 0\n",
    "    x = re.findall(r'\\((.*?)\\)',s)\n",
    "    if x != []:\n",
    "        z = 1\n",
    "    return z\n",
    "\n",
    "def gameday(s):\n",
    "    z = 0\n",
    "    x = re.findall(r'\\((.*?)\\)',s)\n",
    "    if x != [] and x[0] == 'College GameDay':\n",
    "        z = 1\n",
    "    return z\n",
    "\n",
    "def clean_site(s):\n",
    "    #split at city?\n",
    "    x = re.sub(r'\\((.*?)\\)','',s)\n",
    "    #x = re.findall(r'\\w+', x)\n",
    "    return x\n",
    "\n",
    "cfb['Special'] = cfb['Site'].apply(site2special)\n",
    "cfb['GD'] = cfb['Site'].apply(gameday)\n",
    "cfb['Site'] = cfb['Site'].apply(clean_site)"
   ]
  },
  {
   "cell_type": "markdown",
   "metadata": {},
   "source": [
    "**Clean DateTime Features**"
   ]
  },
  {
   "cell_type": "code",
   "execution_count": 32,
   "metadata": {},
   "outputs": [],
   "source": [
    "# convert all date info to DateTime\n",
    "cfb['DateTime'] = pd.to_datetime(cfb['Date'] + ' ' + cfb['Time'])\n"
   ]
  },
  {
   "cell_type": "markdown",
   "metadata": {},
   "source": [
    "**Drop redundant Features**"
   ]
  },
  {
   "cell_type": "code",
   "execution_count": 33,
   "metadata": {},
   "outputs": [],
   "source": [
    "# drop redundant features\n",
    "dropCol = ['Date','Time','Result','Year','Month','Day']\n",
    "cfb.drop(columns=dropCol,inplace=True)\n",
    "cfb['Year'] = cfb['DateTime'].dt.year"
   ]
  },
  {
   "cell_type": "markdown",
   "metadata": {},
   "source": [
    "**Split Site Column**"
   ]
  },
  {
   "cell_type": "code",
   "execution_count": 34,
   "metadata": {},
   "outputs": [
    {
     "name": "stdout",
     "output_type": "stream",
     "text": [
      "TX    464\n",
      "CA    456\n",
      "OH    374\n",
      "FL    314\n",
      "IN    310\n",
      "IL    300\n",
      "AL    246\n",
      "KS    239\n",
      "NY    226\n",
      "AR    215\n",
      "TN    205\n",
      "MS    203\n",
      "MA    200\n",
      "LA    164\n",
      "GA    164\n",
      "VA    155\n",
      "WV    152\n",
      "SC    150\n",
      "HI    132\n",
      "NE    130\n",
      "PA    130\n",
      "MI    129\n",
      "WI    127\n",
      "AZ    125\n",
      "IA    123\n",
      "NJ    118\n",
      "OR    116\n",
      "OK    116\n",
      "ID    115\n",
      "MO    114\n",
      "UT    112\n",
      "WA    109\n",
      "CO    108\n",
      "NV     98\n",
      "NM     96\n",
      "NC     83\n",
      "KY     52\n",
      "Name: State, dtype: int64\n"
     ]
    }
   ],
   "source": [
    "def split_site(s):\n",
    "    split = s.split()\n",
    "    return split[len(split)-1]\n",
    "    \n",
    "cfb['State'] = cfb['Site'].apply(split_site)\n",
    "\n",
    "cfb.loc[cfb.State == \"Oklahoma\", \"State\"] = \"OK\"\n",
    "cfb.loc[cfb.State == \"Dieg\", \"State\"] = \"CA\"\n",
    "cfb.loc[cfb.State == \"Georgia\", \"State\"] = \"GA\"\n",
    "cfb.loc[cfb.State == \"Indiana\", \"State\"] = \"IN\"\n",
    "cfb.loc[cfb.State == \"StadiumHonolulu\", \"State\"] = \"HI\"\n",
    "cfb.loc[cfb.State == \"Diego\", \"State\"] = \"CA\"\n",
    "cfb.loc[cfb.State == \"Kentucky\", \"State\"] = \"KY\"\n",
    "cfb.loc[cfb.State == \"Colorado\", \"State\"] = \"CO\"\n",
    "cfb.loc[cfb.State == \"Jersey\", \"State\"] = \"NJ\"\n",
    "cfb.loc[cfb.State == \"Missouri\", \"State\"] = \"MO\"\n",
    "cfb.loc[cfb.State == \"Texas\", \"State\"] = \"TX\"\n",
    "cfb.loc[cfb.State == \"Indiana\", \"State\"] = \"IN\"\n",
    "cfb.loc[cfb.State == \"Oregon\", \"State\"] = \"OR\"\n",
    "cfb.loc[cfb.State == \"Ohio\", \"State\"] = \"OH\"\n",
    "cfb.loc[cfb.State == \"Nebraska\", \"State\"] = \"NE\"\n",
    "cfb.loc[cfb.State == \"Mississippi\", \"State\"] = \"MS\"\n",
    "cfb.loc[cfb.State == \"Virginia\", \"State\"] = \"VA\"\n",
    "cfb.loc[cfb.State == \"York\", \"State\"] = \"NY\"\n",
    "cfb.loc[cfb.State == \"Carolina\", \"State\"] = \"SC\"\n",
    "cfb.loc[cfb.State == \"StadiumAtlanta\", \"State\"] = \"GA\"\n",
    "cfb.loc[cfb.State == \"Tennessee\", \"State\"] = \"TN\"\n",
    "cfb.loc[cfb.State == \"Illinois\", \"State\"] = \"IL\"\n",
    "cfb.loc[cfb.State == \"Kansas\", \"State\"] = \"KS\"\n",
    "cfb.loc[cfb.State == \"Louisiana\", \"State\"] = \"LA\"\n",
    "cfb.loc[cfb.State == \"Arizona\", \"State\"] = \"AZ\"\n",
    "cfb.loc[cfb.State == \"Alabama\", \"State\"] = \"AL\"\n",
    "cfb.loc[cfb.State == \"Utah\", \"State\"] = \"UT\"\n",
    "cfb = cfb[cfb.State != '-']\n",
    "\n",
    "print(cfb['State'].value_counts())\n",
    "\n",
    "#print(re.findall('[A-Z][^A-Z]*', 'War Memorial StadiumLittle Rock, AR'))"
   ]
  },
  {
   "cell_type": "code",
   "execution_count": 35,
   "metadata": {},
   "outputs": [],
   "source": [
    "states = {\n",
    "        'AK': 'O',\n",
    "        'AL': 'S',\n",
    "        'AR': 'S',\n",
    "        'AS': 'O',\n",
    "        'AZ': 'W',\n",
    "        'CA': 'W',\n",
    "        'CO': 'W',\n",
    "        'CT': 'N',\n",
    "        'DC': 'N',\n",
    "        'DE': 'N',\n",
    "        'FL': 'S',\n",
    "        'GA': 'S',\n",
    "        'GU': 'O',\n",
    "        'HI': 'O',\n",
    "        'IA': 'M',\n",
    "        'ID': 'W',\n",
    "        'IL': 'M',\n",
    "        'IN': 'M',\n",
    "        'KS': 'M',\n",
    "        'KY': 'S',\n",
    "        'LA': 'S',\n",
    "        'MA': 'N',\n",
    "        'MD': 'N',\n",
    "        'ME': 'N',\n",
    "        'MI': 'W',\n",
    "        'MN': 'M',\n",
    "        'MO': 'M',\n",
    "        'MP': 'O',\n",
    "        'MS': 'S',\n",
    "        'MT': 'W',\n",
    "        'NA': 'O',\n",
    "        'NC': 'S',\n",
    "        'ND': 'M',\n",
    "        'NE': 'W',\n",
    "        'NH': 'N',\n",
    "        'NJ': 'N',\n",
    "        'NM': 'W',\n",
    "        'NV': 'W',\n",
    "        'NY': 'N',\n",
    "        'OH': 'M',\n",
    "        'OK': 'S',\n",
    "        'OR': 'W',\n",
    "        'PA': 'N',\n",
    "        'PR': 'O',\n",
    "        'RI': 'N',\n",
    "        'SC': 'S',\n",
    "        'SD': 'M',\n",
    "        'TN': 'S',\n",
    "        'TX': 'S',\n",
    "        'UT': 'W',\n",
    "        'VA': 'S',\n",
    "        'VI': 'O',\n",
    "        'VT': 'N',\n",
    "        'WA': 'W',\n",
    "        'WI': 'M',\n",
    "        'WV': 'S',\n",
    "        'WY': 'W'\n",
    "}\n",
    "\n",
    "def find_region(s):\n",
    "    return states[s]\n",
    "\n",
    "cfb['Region'] = cfb['State'].apply(find_region)\n"
   ]
  },
  {
   "cell_type": "markdown",
   "metadata": {},
   "source": [
    "**Cleaned DataFrame**"
   ]
  },
  {
   "cell_type": "code",
   "execution_count": 136,
   "metadata": {},
   "outputs": [
    {
     "data": {
      "text/plain": [
       "2013-09-07 18:00:00    12\n",
       "2009-09-12 18:00:00    11\n",
       "2010-09-04 18:00:00    11\n",
       "2011-09-17 18:00:00    10\n",
       "2012-09-15 18:00:00    10\n",
       "                       ..\n",
       "2004-11-06 18:00:00     1\n",
       "2016-09-17 20:15:00     1\n",
       "2008-09-20 20:15:00     1\n",
       "2018-09-28 19:00:00     1\n",
       "2003-11-08 19:45:00     1\n",
       "Name: DateTime, Length: 3914, dtype: int64"
      ]
     },
     "execution_count": 136,
     "metadata": {},
     "output_type": "execute_result"
    }
   ],
   "source": [
    "cfb.columns\n",
    "cfb['DateTime'].value_counts()"
   ]
  },
  {
   "cell_type": "markdown",
   "metadata": {},
   "source": [
    "# Below I am just messing around with some visualizations"
   ]
  },
  {
   "cell_type": "code",
   "execution_count": 14,
   "metadata": {},
   "outputs": [
    {
     "data": {
      "image/png": "[encoded data removed]",
      "text/plain": [
       "<Figure size 432x288 with 1 Axes>"
      ]
     },
     "metadata": {
      "needs_background": "light"
     },
     "output_type": "display_data"
    }
   ],
   "source": [
    "# Attendance by Conferece - Overall Not Super Helpful but can see SEC and Big 10 have highest peaks of attendance\n",
    "plot(cfb['Fill Rate'], cfb['Conference'], marker='o', color='blue', linestyle='None')\n",
    "xlabel('Fill Rate')\n",
    "ylabel('Conference')\n",
    "title('Fill Rate versus Conference')\n",
    "show()"
   ]
  },
  {
   "cell_type": "code",
   "execution_count": 15,
   "metadata": {},
   "outputs": [
    {
     "data": {
      "image/png": "[encoded data removed]",
      "text/plain": [
       "<Figure size 432x288 with 1 Axes>"
      ]
     },
     "metadata": {
      "needs_background": "light"
     },
     "output_type": "display_data"
    }
   ],
   "source": [
    "#Attendance vs GD - Not super telling although when GD is present, the lowest attendance is > 40,000\n",
    "plot(cfb['GD'], cfb['Fill Rate'], marker='o', color='blue', linestyle='None')\n",
    "xlabel='GD'\n",
    "ylabel='Fill Rate'\n",
    "title='Fill Rate versus GD'\n",
    "show()"
   ]
  },
  {
   "cell_type": "code",
   "execution_count": 16,
   "metadata": {},
   "outputs": [
    {
     "data": {
      "image/png": "[encoded data removed]",
      "text/plain": [
       "<Figure size 432x288 with 1 Axes>"
      ]
     },
     "metadata": {
      "needs_background": "light"
     },
     "output_type": "display_data"
    }
   ],
   "source": [
    "# GD vs Attendance - Not super helpful but shows there are only 6 conferences that have had GD\n",
    "plot(cfb['GD'], cfb['Conference'], marker='o', color='blue', linestyle='None')\n",
    "show()"
   ]
  },
  {
   "cell_type": "code",
   "execution_count": 17,
   "metadata": {},
   "outputs": [],
   "source": [
    "# Next 2 plots im just messing around with grouping on conference but nothing super helpful\n",
    "SEC = cfb[cfb['Conference'] == 'SEC']\n",
    "Big12 = cfb[cfb['Conference'] == 'Big-12']\n",
    "WAC = cfb[cfb['Conference'] == 'WAC']\n",
    "MWC = cfb[cfb['Conference'] == 'MWC']\n",
    "Ind = cfb[cfb['Conference'] == 'Independent']\n",
    "ACC = cfb[cfb['Conference'] == 'ACC']\n",
    "PAC12 = cfb[cfb['Conference'] == 'PAC-12']\n",
    "Big10 = cfb[cfb['Conference'] == 'Big-10']\n",
    "Mid = cfb[cfb['Conference'] == 'Mid-American']\n",
    "CUSA = cfb[cfb['Conference'] == 'CUSA']\n",
    "AAC = cfb[cfb['Conference'] == 'AAC']\n",
    "BigEast = cfb[cfb['Conference'] == 'Big East']\n",
    "SunBelt = cfb[cfb['Conference'] == 'Sun Belt']\n",
    "FCS = cfb[cfb['Conference'] == 'FCS']"
   ]
  },
  {
   "cell_type": "code",
   "execution_count": 18,
   "metadata": {},
   "outputs": [
    {
     "data": {
      "image/png": "[encoded data removed]",
      "text/plain": [
       "<Figure size 432x288 with 1 Axes>"
      ]
     },
     "metadata": {
      "needs_background": "light"
     },
     "output_type": "display_data"
    }
   ],
   "source": [
    "plot(SEC['Fill Rate'], SEC['Current Wins'], marker='o', linestyle='None', label='SEC')\n",
    "plot(Big12['Fill Rate'], Big12['Current Wins'], marker='o', linestyle='None', label='Big 12')\n",
    "plot(WAC['Fill Rate'], WAC['Current Wins'], marker='o', linestyle='None', label='WAC')\n",
    "xlabel='Fill Rate'\n",
    "ylabel='Current Wins'\n",
    "legend(numpoints=1, loc='best')\n",
    "show()"
   ]
  },
  {
   "cell_type": "code",
   "execution_count": 19,
   "metadata": {},
   "outputs": [
    {
     "data": {
      "image/png": "[encoded data removed]",
      "text/plain": [
       "<Figure size 432x288 with 1 Axes>"
      ]
     },
     "metadata": {
      "needs_background": "light"
     },
     "output_type": "display_data"
    }
   ],
   "source": [
    "plot(SEC['Attendance'], SEC['Stadium Capacity'], marker='o', linestyle='None', label='SEC')\n",
    "plot(Big12['Attendance'], Big12['Stadium Capacity'], marker='o', linestyle='None', label='Big 12')\n",
    "plot(WAC['Attendance'], WAC['Stadium Capacity'], marker='o', linestyle='None', label='WAC')\n",
    "legend(numpoints=1, loc='best')\n",
    "show()"
   ]
  },
  {
   "cell_type": "code",
   "execution_count": 160,
   "metadata": {},
   "outputs": [
    {
     "data": {
      "text/plain": [
       "Text(0.5, 1.0, 'Top 10 Teams by Max Stadium Capacity')"
      ]
     },
     "execution_count": 160,
     "metadata": {},
     "output_type": "execute_result"
    },
    {
     "data": {
      "image/png": "[encoded data removed]",
      "text/plain": [
       "<Figure size 432x288 with 1 Axes>"
      ]
     },
     "metadata": {
      "needs_background": "light"
     },
     "output_type": "display_data"
    }
   ],
   "source": [
    "# Wins by Conference - shows which conferences have the most wins - could be kinda cool\n",
    "#wins_conf = cfb.groupby(['Conference'])[['Win']].sum().sort_values(by='Win', ascending=False)\n",
    "#wins_conf.plot(kind='bar')\n",
    "#xlabel = 'Conference'\n",
    "\n",
    "\n",
    "cfb.groupby('Team')['Stadium Capacity'].max().sort_values(ascending=False)[:10].plot(kind='bar')\n",
    "plt.title('Top 10 Teams by Max Stadium Capacity')"
   ]
  },
  {
   "cell_type": "code",
   "execution_count": 21,
   "metadata": {},
   "outputs": [
    {
     "data": {
      "text/plain": [
       "<matplotlib.axes._subplots.AxesSubplot at 0x208953ae7c8>"
      ]
     },
     "execution_count": 21,
     "metadata": {},
     "output_type": "execute_result"
    },
    {
     "data": {
      "image/png": "[encoded data removed]",
      "text/plain": [
       "<Figure size 432x288 with 1 Axes>"
      ]
     },
     "metadata": {
      "needs_background": "light"
     },
     "output_type": "display_data"
    }
   ],
   "source": [
    "# Teams vs Wins - shows top 10 teams with the most wins - could be kinda cool\n",
    "team_win = cfb.groupby(['Team'])[['Win']].sum().iloc[:10].sort_values(by='Win',ascending=False)\n",
    "team_win.plot(kind='bar')"
   ]
  },
  {
   "cell_type": "code",
   "execution_count": 22,
   "metadata": {},
   "outputs": [
    {
     "ename": "TypeError",
     "evalue": "'str' object is not callable",
     "output_type": "error",
     "traceback": [
      "\u001b[1;31m---------------------------------------------------------------------------\u001b[0m",
      "\u001b[1;31mTypeError\u001b[0m                                 Traceback (most recent call last)",
      "\u001b[1;32m<ipython-input-22-5af2e363d38e>\u001b[0m in \u001b[0;36m<module>\u001b[1;34m\u001b[0m\n\u001b[0;32m      1\u001b[0m \u001b[1;31m# frequency of attendance - most common is around 20,000 people - overall not super telling\u001b[0m\u001b[1;33m\u001b[0m\u001b[1;33m\u001b[0m\u001b[1;33m\u001b[0m\u001b[0m\n\u001b[0;32m      2\u001b[0m \u001b[0mcfb\u001b[0m\u001b[1;33m[\u001b[0m\u001b[1;34m'Attendance'\u001b[0m\u001b[1;33m]\u001b[0m\u001b[1;33m.\u001b[0m\u001b[0mhist\u001b[0m\u001b[1;33m(\u001b[0m\u001b[1;33m)\u001b[0m\u001b[1;33m\u001b[0m\u001b[1;33m\u001b[0m\u001b[0m\n\u001b[1;32m----> 3\u001b[1;33m \u001b[0mxlabel\u001b[0m\u001b[1;33m(\u001b[0m\u001b[1;34m'Attendance'\u001b[0m\u001b[1;33m)\u001b[0m\u001b[1;33m\u001b[0m\u001b[1;33m\u001b[0m\u001b[0m\n\u001b[0m\u001b[0;32m      4\u001b[0m \u001b[0mylabel\u001b[0m\u001b[1;33m(\u001b[0m\u001b[1;34m'Frequency'\u001b[0m\u001b[1;33m)\u001b[0m\u001b[1;33m\u001b[0m\u001b[1;33m\u001b[0m\u001b[0m\n",
      "\u001b[1;31mTypeError\u001b[0m: 'str' object is not callable"
     ]
    },
    {
     "data": {
      "image/png": "[encoded data removed]",
      "text/plain": [
       "<Figure size 432x288 with 1 Axes>"
      ]
     },
     "metadata": {
      "needs_background": "light"
     },
     "output_type": "display_data"
    }
   ],
   "source": [
    "# frequency of attendance - most common is around 20,000 people - overall not super telling\n",
    "cfb['Attendance'].hist()\n",
    "xlabel('Attendance')\n",
    "ylabel('Frequency')"
   ]
  },
  {
   "cell_type": "code",
   "execution_count": null,
   "metadata": {},
   "outputs": [],
   "source": [
    "# Shows how the amounts of teams in each conference in our data set - could be kinda cool\n",
    "conf_numb = cfb[['Team', 'Conference']].drop_duplicates(subset='Team')\n",
    "conf_numb = conf_numb['Conference'].value_counts()\n",
    "conf_numb\n",
    "\n",
    "pie(conf_numb.values,\n",
    "    labels=conf_numb.index.values,\n",
    "    shadow=True)\n",
    "axis('equal')"
   ]
  },
  {
   "cell_type": "code",
   "execution_count": null,
   "metadata": {},
   "outputs": [],
   "source": [
    "pivoted = (pd.pivot_table(cfb, index = 'Team', \\\n",
    "                     columns = ['GD'], \\\n",
    "                     values = 'Fill Rate', \\\n",
    "                     fill_value = 0, \\\n",
    "                     aggfunc = 'mean').sort_values(by=1))\n",
    "\n",
    "pivoted['GD Lift'] = 100*(pivoted[1] - pivoted[0])/pivoted[0]\n",
    "\n",
    "print(pivoted.sort_values(by='GD Lift', ascending=False)[:20])\n",
    "\n",
    "mask = pivoted['GD Lift'] > 0\n",
    "\n",
    "print(pivoted[mask].sort_values(by='GD Lift')[:20])\n"
   ]
  },
  {
   "cell_type": "code",
   "execution_count": null,
   "metadata": {},
   "outputs": [],
   "source": [
    "pivoted2 = (pd.pivot_table(cfb, index = ['Team'], \\\n",
    "                     values = ['Stadium Capacity','Fill Rate', 'GD'], \\\n",
    "                     fill_value = 0, \\\n",
    "                     aggfunc = {'Stadium Capacity':['min','max'],'Fill Rate':'mean', 'GD':'mean'}))\n",
    "\n",
    "print(pivoted2.columns)\n",
    "\n",
    "pivoted2['Capacity %Change'] = 100*(pivoted2['Stadium Capacity']['max'] - pivoted2['Stadium Capacity']['min'])/pivoted2['Stadium Capacity']['min']\n",
    "\n",
    "print(pivoted2[pivoted2['GD']['mean']>0].sort_values(by=('GD','mean')))\n"
   ]
  },
  {
   "cell_type": "code",
   "execution_count": null,
   "metadata": {},
   "outputs": [],
   "source": [
    "pivoted3 = pd.pivot_table(cfb, index = 'Year', \\\n",
    "                         values = ['Stadium Capacity', 'Fill Rate', 'Attendance'], \\\n",
    "                         aggfunc = 'mean')\n",
    "\n",
    "#print(pivoted3)\n",
    "#plot(pivoted3['Attendance'].rolling(2, min_periods=1).mean(), label = 'Attendance')\n",
    "#plot(pivoted3['Fill Rate'].rolling(2, min_periods=1).mean(), label = 'Fill Rate')\n",
    "#plot(pivoted3['Stadium Capacity'].rolling(2, min_periods=1).mean(), label = 'Stadium Capacity')\n",
    "#legend(numpoints=1, loc='best')\n",
    "\n",
    "fix,ax = plt.subplots()\n",
    "ax.plot(pivoted3['Attendance'].rolling(2, min_periods=1).mean(), label = 'Attendance')\n",
    "ax.plot(pivoted3['Stadium Capacity'].rolling(2, min_periods=1).mean(), label = 'Stadium Capacity', color = 'green')\n",
    "ax.set_xlabel('Year', fontsize=14)\n",
    "ax.set_ylim(40000,60000)\n",
    "ax.set_xlim(2000,2018)\n",
    "#ax.set_xticks(cfb['Year'].value_counts().index)\n",
    "ax2=ax.twinx()\n",
    "ax2.plot(pivoted3['Fill Rate'].rolling(2, min_periods=1).mean(), color='red', label = 'Fill Rate')\n",
    "legend(numpoints=1,loc=0)\n",
    "ax.legend(numpoints=1, loc='lower left')\n",
    "plt.title('Attendance, Capacity, and Fill Rate Trends')"
   ]
  },
  {
   "cell_type": "code",
   "execution_count": 69,
   "metadata": {},
   "outputs": [
    {
     "name": "stdout",
     "output_type": "stream",
     "text": [
      "                            OLS Regression Results                            \n",
      "==============================================================================\n",
      "Dep. Variable:        Q(\"Attendance\")   R-squared:                       0.798\n",
      "Model:                            OLS   Adj. R-squared:                  0.797\n",
      "Method:                 Least Squares   F-statistic:                     1542.\n",
      "Date:                Sun, 09 Aug 2020   Prob (F-statistic):               0.00\n",
      "Time:                        10:24:30   Log-Likelihood:                -71730.\n",
      "No. Observations:                6670   AIC:                         1.435e+05\n",
      "Df Residuals:                    6652   BIC:                         1.436e+05\n",
      "Df Model:                          17                                         \n",
      "Covariance Type:            nonrobust                                         \n",
      "==============================================================================================\n",
      "                                 coef    std err          t      P>|t|      [0.025      0.975]\n",
      "----------------------------------------------------------------------------------------------\n",
      "Intercept                   3.093e+04    715.006     43.263      0.000    2.95e+04    3.23e+04\n",
      "Conference[T.ACC]            1.76e+04    786.960     22.366      0.000    1.61e+04    1.91e+04\n",
      "Conference[T.Big East]      1.011e+04   1436.603      7.040      0.000    7298.000    1.29e+04\n",
      "Conference[T.Big-10]        1.857e+04    831.133     22.338      0.000    1.69e+04    2.02e+04\n",
      "Conference[T.Big-12]        1.594e+04    795.923     20.031      0.000    1.44e+04    1.75e+04\n",
      "Conference[T.CUSA]         -2438.1839    844.662     -2.887      0.004   -4093.992    -782.376\n",
      "Conference[T.FCS]          -2.184e+04   1382.084    -15.804      0.000   -2.46e+04   -1.91e+04\n",
      "Conference[T.Independent]   1.479e+04   1094.965     13.506      0.000    1.26e+04    1.69e+04\n",
      "Conference[T.MWC]           4711.9478    884.713      5.326      0.000    2977.627    6446.269\n",
      "Conference[T.Mid-American] -1.148e+04    809.502    -14.180      0.000   -1.31e+04   -9891.863\n",
      "Conference[T.Pac-12]        1.856e+04    859.234     21.605      0.000    1.69e+04    2.02e+04\n",
      "Conference[T.SEC]           2.343e+04    913.835     25.636      0.000    2.16e+04    2.52e+04\n",
      "Conference[T.Sun Belt]     -9916.0948    896.451    -11.062      0.000   -1.17e+04   -8158.763\n",
      "Conference[T.WAC]           1162.5513    892.859      1.302      0.193    -587.739    2912.841\n",
      "Tailgating                   2.77e+04    429.855     64.436      0.000    2.69e+04    2.85e+04\n",
      "isRanked                    7864.9595    401.732     19.578      0.000    7077.436    8652.483\n",
      "Q(\"Current Losses\")        -1036.7780     67.702    -15.314      0.000   -1169.496    -904.060\n",
      "OppisRanked                 4233.7923    377.701     11.209      0.000    3493.377    4974.208\n",
      "==============================================================================\n",
      "Omnibus:                      129.343   Durbin-Watson:                   0.412\n",
      "Prob(Omnibus):                  0.000   Jarque-Bera (JB):              197.874\n",
      "Skew:                           0.203   Prob(JB):                     1.08e-43\n",
      "Kurtosis:                       3.740   Cond. No.                         64.3\n",
      "==============================================================================\n",
      "\n",
      "Warnings:\n",
      "[1] Standard Errors assume that the covariance matrix of the errors is correctly specified.\n"
     ]
    }
   ],
   "source": [
    "y, X = dmatrices('Q(\"Attendance\") ~ Tailgating + isRanked + Conference + Q(\"Current Losses\") \\\n",
    "                    + OppisRanked', data=cfb, return_type='dataframe')\n",
    "\n",
    "\n",
    "model = sm.OLS(y, X)       # Set up the model\n",
    "result = model.fit()       # Fit model (find the intercept and slopes)\n",
    "print(result.summary())"
   ]
  },
  {
   "cell_type": "code",
   "execution_count": 37,
   "metadata": {},
   "outputs": [
    {
     "name": "stdout",
     "output_type": "stream",
     "text": [
      "                            OLS Regression Results                            \n",
      "==============================================================================\n",
      "Dep. Variable:                Q(\"GD\")   R-squared:                       0.032\n",
      "Model:                            OLS   Adj. R-squared:                  0.029\n",
      "Method:                 Least Squares   F-statistic:                     12.12\n",
      "Date:                Sun, 09 Aug 2020   Prob (F-statistic):           9.98e-36\n",
      "Time:                        10:07:46   Log-Likelihood:                 8265.9\n",
      "No. Observations:                6670   AIC:                        -1.649e+04\n",
      "Df Residuals:                    6651   BIC:                        -1.636e+04\n",
      "Df Model:                          18                                         \n",
      "Covariance Type:            nonrobust                                         \n",
      "==============================================================================================\n",
      "                                 coef    std err          t      P>|t|      [0.025      0.975]\n",
      "----------------------------------------------------------------------------------------------\n",
      "Intercept                     -0.0001      0.168     -0.001      0.999      -0.329       0.328\n",
      "Conference[T.ACC]             -0.0065      0.005     -1.335      0.182      -0.016       0.003\n",
      "Conference[T.Big East]        -0.0036      0.009     -0.400      0.689      -0.021       0.014\n",
      "Conference[T.Big-10]           0.0014      0.005      0.281      0.779      -0.008       0.011\n",
      "Conference[T.Big-12]          -0.0006      0.005     -0.115      0.908      -0.010       0.009\n",
      "Conference[T.CUSA]            -0.0005      0.005     -0.090      0.928      -0.011       0.010\n",
      "Conference[T.FCS]             -0.0137      0.009     -1.601      0.109      -0.031       0.003\n",
      "Conference[T.Independent]     -0.0115      0.007     -1.723      0.085      -0.025       0.002\n",
      "Conference[T.MWC]             -0.0026      0.005     -0.480      0.631      -0.013       0.008\n",
      "Conference[T.Mid-American]    -0.0003      0.005     -0.053      0.958      -0.010       0.010\n",
      "Conference[T.Pac-12]          -0.0062      0.005     -1.174      0.241      -0.017       0.004\n",
      "Conference[T.SEC]              0.0042      0.005      0.757      0.449      -0.007       0.015\n",
      "Conference[T.Sun Belt]      9.875e-05      0.006      0.018      0.986      -0.011       0.011\n",
      "Conference[T.WAC]             -0.0041      0.006     -0.730      0.465      -0.015       0.007\n",
      "isRanked                      -0.0001      0.168     -0.001      0.999      -0.329       0.328\n",
      "I(Opponent_Rank + Rank)       -0.0002   2.05e-05    -11.686      0.000      -0.000      -0.000\n",
      "Q(\"Current Wins\")             -0.0004      0.000     -1.049      0.294      -0.001       0.000\n",
      "Q(\"Current Losses\")           -0.0007      0.000     -1.531      0.126      -0.002       0.000\n",
      "conference_game               -0.0038      0.002     -1.615      0.106      -0.008       0.001\n",
      "Year                        2.543e-05      0.000      0.153      0.879      -0.000       0.000\n",
      "==============================================================================\n",
      "Omnibus:                    11932.892   Durbin-Watson:                   2.027\n",
      "Prob(Omnibus):                  0.000   Jarque-Bera (JB):          9122057.254\n",
      "Skew:                          13.236   Prob(JB):                         0.00\n",
      "Kurtosis:                     182.227   Cond. No.                     9.44e+18\n",
      "==============================================================================\n",
      "\n",
      "Warnings:\n",
      "[1] Standard Errors assume that the covariance matrix of the errors is correctly specified.\n",
      "[2] The smallest eigenvalue is 3.04e-28. This might indicate that there are\n",
      "strong multicollinearity problems or that the design matrix is singular.\n"
     ]
    }
   ],
   "source": [
    "y, X = dmatrices('Q(\"GD\") ~ isRanked + I(Opponent_Rank + Rank) + Conference + Q(\"Current Wins\") + Q(\"Current Losses\") \\\n",
    "                    + conference_game + Year', data=cfb, return_type='dataframe')\n",
    "\n",
    "\n",
    "model = sm.OLS(y, X)       # Set up the model\n",
    "result = model.fit()       # Fit model (find the intercept and slopes)\n",
    "print(result.summary())"
   ]
  },
  {
   "cell_type": "code",
   "execution_count": 149,
   "metadata": {
    "scrolled": true
   },
   "outputs": [
    {
     "name": "stdout",
     "output_type": "stream",
     "text": [
      "                                 OLS Regression Results                                \n",
      "=======================================================================================\n",
      "Dep. Variable:             Attendance   R-squared (uncentered):                   0.940\n",
      "Model:                            OLS   Adj. R-squared (uncentered):              0.940\n",
      "Method:                 Least Squares   F-statistic:                              5099.\n",
      "Date:                Sun, 09 Aug 2020   Prob (F-statistic):                        0.00\n",
      "Time:                        18:13:57   Log-Likelihood:                         -60192.\n",
      "No. Observations:                5536   AIC:                                  1.204e+05\n",
      "Df Residuals:                    5519   BIC:                                  1.205e+05\n",
      "Df Model:                          17                                                  \n",
      "Covariance Type:            nonrobust                                                  \n",
      "===========================================================================================\n",
      "                              coef    std err          t      P>|t|      [0.025      0.975]\n",
      "-------------------------------------------------------------------------------------------\n",
      "Conference_ACC           4.707e+04    533.767     88.186      0.000     4.6e+04    4.81e+04\n",
      "Conference_Big East      3.876e+04   1443.725     26.847      0.000    3.59e+04    4.16e+04\n",
      "Conference_Big-10        4.737e+04    622.843     76.054      0.000    4.61e+04    4.86e+04\n",
      "Conference_Big-12        4.484e+04    545.100     82.267      0.000    4.38e+04    4.59e+04\n",
      "Conference_CUSA          2.837e+04    672.985     42.151      0.000     2.7e+04    2.97e+04\n",
      "Conference_FCS           6624.3781   1379.813      4.801      0.000    3919.402    9329.354\n",
      "Conference_Independent   4.483e+04   1147.979     39.049      0.000    4.26e+04    4.71e+04\n",
      "Conference_MWC           3.531e+04    753.221     46.873      0.000    3.38e+04    3.68e+04\n",
      "Conference_Mid-American  1.758e+04    583.567     30.129      0.000    1.64e+04    1.87e+04\n",
      "Conference_Pac-12        4.802e+04    692.556     69.340      0.000    4.67e+04    4.94e+04\n",
      "Conference_SEC           5.061e+04    800.195     63.253      0.000     4.9e+04    5.22e+04\n",
      "Conference_Sun Belt      1.836e+04    765.489     23.989      0.000    1.69e+04    1.99e+04\n",
      "Conference_WAC            2.99e+04    687.457     43.501      0.000    2.86e+04    3.13e+04\n",
      "Current Losses           -335.8089     82.569     -4.067      0.000    -497.677    -173.941\n",
      "OppisRanked              4979.9100    463.530     10.743      0.000    4071.209    5888.611\n",
      "Tailgating               2.719e+04    522.624     52.023      0.000    2.62e+04    2.82e+04\n",
      "isRanked                 1.006e+04    482.529     20.848      0.000    9113.626     1.1e+04\n",
      "==============================================================================\n",
      "Omnibus:                      417.637   Durbin-Watson:                   1.937\n",
      "Prob(Omnibus):                  0.000   Jarque-Bera (JB):              665.045\n",
      "Skew:                           0.585   Prob(JB):                    3.87e-145\n",
      "Kurtosis:                       4.230   Cond. No.                         27.8\n",
      "==============================================================================\n",
      "\n",
      "Warnings:\n",
      "[1] Standard Errors assume that the covariance matrix of the errors is correctly specified.\n",
      "52148.695107798914\n",
      "12758.195156798043\n",
      "13358.33519299464\n",
      "25184.728552687706\n",
      "45303.07061469265\n"
     ]
    }
   ],
   "source": [
    "from sklearn.metrics import mean_squared_error\n",
    "\n",
    "cfb = cfb.sort_values(by='DateTime')\n",
    "\n",
    "X = cfb[['Attendance','Tailgating', 'isRanked', 'Conference', 'Current Losses', 'OppisRanked']]\n",
    "X = pd.get_dummies(data=X, drop_first=True)\n",
    "\n",
    "train_set, test_set= np.split(X, [int(.83 *len(cfb))])\n",
    "\n",
    "X_train = train_set[train_set.columns.difference(['Attendance'])]\n",
    "y_train = train_set['Attendance']\n",
    "\n",
    "X_test = test_set[test_set.columns.difference(['Attendance'])]\n",
    "y_test = test_set['Attendance']\n",
    "\n",
    "model = sm.OLS(y_train, X_train)       # Set up the model\n",
    "result = model.fit()       # Fit model (find the intercept and slopes)\n",
    "print(result.summary())\n",
    "print(math.sqrt(result.mse_total))\n",
    "\n",
    "pred=model.predict(result.params, X_train)\n",
    "\n",
    "ypred=model.predict(result.params, X_test)\n",
    "\n",
    "print(math.sqrt(mean_squared_error(y_train, pred)))\n",
    "print(math.sqrt(mean_squared_error(y_test, ypred)))\n",
    "\n",
    "print(cfb['Attendance'].std())\n",
    "print(cfb['Attendance'].mean())"
   ]
  },
  {
   "cell_type": "code",
   "execution_count": 132,
   "metadata": {},
   "outputs": [],
   "source": [
    "cfb.to_csv('cfb.csv', index=False)"
   ]
  },
  {
   "cell_type": "code",
   "execution_count": 143,
   "metadata": {},
   "outputs": [
    {
     "name": "stdout",
     "output_type": "stream",
     "text": [
      "                                 OLS Regression Results                                \n",
      "=======================================================================================\n",
      "Dep. Variable:             Attendance   R-squared (uncentered):                   0.941\n",
      "Model:                            OLS   Adj. R-squared (uncentered):              0.941\n",
      "Method:                 Least Squares   F-statistic:                              4187.\n",
      "Date:                Sun, 09 Aug 2020   Prob (F-statistic):                        0.00\n",
      "Time:                        16:19:29   Log-Likelihood:                         -48534.\n",
      "No. Observations:                4468   AIC:                                  9.710e+04\n",
      "Df Residuals:                    4451   BIC:                                  9.721e+04\n",
      "Df Model:                          17                                                  \n",
      "Covariance Type:            nonrobust                                                  \n",
      "===========================================================================================\n",
      "                              coef    std err          t      P>|t|      [0.025      0.975]\n",
      "-------------------------------------------------------------------------------------------\n",
      "Conference_ACC           4.808e+04    596.878     80.546      0.000    4.69e+04    4.92e+04\n",
      "Conference_Big East      3.919e+04   1435.611     27.300      0.000    3.64e+04     4.2e+04\n",
      "Conference_Big-10        4.687e+04    693.055     67.630      0.000    4.55e+04    4.82e+04\n",
      "Conference_Big-12        4.524e+04    583.428     77.549      0.000    4.41e+04    4.64e+04\n",
      "Conference_CUSA          3.118e+04    781.456     39.902      0.000    2.96e+04    3.27e+04\n",
      "Conference_FCS           7102.4465   1375.890      5.162      0.000    4405.018    9799.875\n",
      "Conference_Independent   4.312e+04   1312.566     32.849      0.000    4.05e+04    4.57e+04\n",
      "Conference_MWC           3.843e+04    868.176     44.264      0.000    3.67e+04    4.01e+04\n",
      "Conference_Mid-American  1.837e+04    638.772     28.756      0.000    1.71e+04    1.96e+04\n",
      "Conference_Pac-12        4.904e+04    778.181     63.016      0.000    4.75e+04    5.06e+04\n",
      "Conference_SEC           4.961e+04    910.112     54.514      0.000    4.78e+04    5.14e+04\n",
      "Conference_Sun Belt       1.81e+04    860.422     21.035      0.000    1.64e+04    1.98e+04\n",
      "Conference_WAC           3.036e+04    691.953     43.874      0.000     2.9e+04    3.17e+04\n",
      "Current Losses           -493.5558     92.016     -5.364      0.000    -673.952    -313.159\n",
      "OppisRanked              5175.3423    512.281     10.103      0.000    4171.017    6179.668\n",
      "Tailgating                2.76e+04    571.973     48.252      0.000    2.65e+04    2.87e+04\n",
      "isRanked                 9598.2671    530.681     18.087      0.000    8557.868    1.06e+04\n",
      "==============================================================================\n",
      "Omnibus:                      290.434   Durbin-Watson:                   1.946\n",
      "Prob(Omnibus):                  0.000   Jarque-Bera (JB):              441.834\n",
      "Skew:                           0.536   Prob(JB):                     1.14e-96\n",
      "Kurtosis:                       4.107   Cond. No.                         26.3\n",
      "==============================================================================\n",
      "\n",
      "Warnings:\n",
      "[1] Standard Errors assume that the covariance matrix of the errors is correctly specified.\n"
     ]
    }
   ],
   "source": [
    "print(result.summary())\n"
   ]
  }
 ],
 "metadata": {
  "kernelspec": {
   "display_name": "Python 3",
   "language": "python",
   "name": "python3"
  },
  "language_info": {
   "codemirror_mode": {
    "name": "ipython",
    "version": 3
   },
   "file_extension": ".py",
   "mimetype": "text/x-python",
   "name": "python",
   "nbconvert_exporter": "python",
   "pygments_lexer": "ipython3",
   "version": "3.7.6"
  }
 },
 "nbformat": 4,
 "nbformat_minor": 4
}
