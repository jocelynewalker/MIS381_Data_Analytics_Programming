{
 "cells": [
  {
   "cell_type": "markdown",
   "metadata": {},
   "source": [
    "# Is it a really game day without College GameDay?\n",
    "\n",
    "A Data Analytics Programming Project\n",
    "\n",
    "By: Shan Ali, Callie Gilmore, Jocelyne Walker"
   ]
  },
  {
   "cell_type": "markdown",
   "metadata": {},
   "source": [
    "## Setup"
   ]
  },
  {
   "cell_type": "code",
   "execution_count": 25,
   "metadata": {},
   "outputs": [
    {
     "name": "stdout",
     "output_type": "stream",
     "text": [
      "Populating the interactive namespace from numpy and matplotlib\n"
     ]
    }
   ],
   "source": [
    "# import libraries\n",
    "from pandas import Series, DataFrame\n",
    "import pandas as pd\n",
    "%pylab inline\n",
    "\n",
    "from datetime import datetime\n",
    "import re"
   ]
  },
  {
   "cell_type": "code",
   "execution_count": 26,
   "metadata": {},
   "outputs": [],
   "source": [
    "# read data\n",
    "cfb = pd.read_csv('Downloads/CFBeattendance.csv', encoding= 'unicode_escape').dropna()"
   ]
  },
  {
   "cell_type": "markdown",
   "metadata": {},
   "source": [
    "## Data Wrangling"
   ]
  },
  {
   "cell_type": "markdown",
   "metadata": {},
   "source": [
    "**Clean Opponent**"
   ]
  },
  {
   "cell_type": "code",
   "execution_count": 27,
   "metadata": {},
   "outputs": [],
   "source": [
    "# clean opponent column, ex.'No. 25 Georgia'\n",
    "def opp2conf(s):\n",
    "    x = 0\n",
    "    if len(s.rsplit('*')) is 2:\n",
    "        x = 1\n",
    "    return x\n",
    "\n",
    "def opp_clean(s):\n",
    "    x = re.findall(r'\\w+',s.rstrip('*'))\n",
    "    if x[0] == 'No':\n",
    "        x = x[2:]\n",
    "    return ' '.join(x)\n",
    "\n",
    "cfb['conference_game'] = cfb['Opponent'].apply(opp2conf)\n",
    "cfb['Opponent'] = cfb['Opponent'].apply(opp_clean)\n",
    "#cfb.head()"
   ]
  },
  {
   "cell_type": "markdown",
   "metadata": {},
   "source": [
    "**Clean Rank, TV, Opponent_Rank**"
   ]
  },
  {
   "cell_type": "code",
   "execution_count": 28,
   "metadata": {},
   "outputs": [],
   "source": [
    "# clean Rank, TV, Opponent_Rank\n",
    "cfb.loc[cfb.Rank.str[:] == 'NR','Rank'] = np.nan\n",
    "cfb.loc[cfb.Opponent_Rank.str[:] == 'NR','Opponent_Rank'] = np.nan\n",
    "m = cfb.TV.str[:] == 'Not on TV'\n",
    "cfb.loc[~m,'TV'] = 1\n",
    "cfb.loc[m,'TV'] = np.nan\n",
    "#cfb.head()"
   ]
  },
  {
   "cell_type": "markdown",
   "metadata": {},
   "source": [
    "**Clean Result**"
   ]
  },
  {
   "cell_type": "code",
   "execution_count": 29,
   "metadata": {},
   "outputs": [],
   "source": [
    "# clean result\n",
    "# get win dummy\n",
    "cfb['Win'] = 0\n",
    "cfb.loc[cfb.Result.str[0] == 'W','Win'] = 1\n",
    "\n",
    "# get scores\n",
    "cfb['Team_Score'] = cfb['Result'].apply(lambda x: re.findall(r'\\d+',x)[0])\n",
    "cfb['Opp_Score'] = cfb['Result'].apply(lambda x: re.findall(r'\\d+',x)[1])\n",
    "\n",
    "# get OT\n",
    "def get_OT(s):\n",
    "    ot = 0\n",
    "    x = re.findall(r'OT',s)\n",
    "    if x != []:\n",
    "        ot = 1\n",
    "        x = re.findall(r'(\\d+)OT',s)\n",
    "        if x != []:\n",
    "            ot = x[0]\n",
    "    return ot\n",
    "\n",
    "cfb['OT'] = cfb['Result'].apply(get_OT)"
   ]
  },
  {
   "cell_type": "markdown",
   "metadata": {},
   "source": [
    "**Clean New Coach and Tailgating**"
   ]
  },
  {
   "cell_type": "code",
   "execution_count": 30,
   "metadata": {},
   "outputs": [],
   "source": [
    "# clean New Coach and Tailgating\n",
    "cfb['New Coach'] = pd.get_dummies(cfb['New Coach'])[1]\n",
    "cfb['Tailgating'] = pd.get_dummies(cfb['Tailgating'])[1]"
   ]
  },
  {
   "cell_type": "markdown",
   "metadata": {},
   "source": [
    "**Clean Site**"
   ]
  },
  {
   "cell_type": "code",
   "execution_count": 31,
   "metadata": {},
   "outputs": [],
   "source": [
    "# clean Site\n",
    "def site2special(s):\n",
    "    z = 0\n",
    "    x = re.findall(r'\\((.*?)\\)',s)\n",
    "    if x != []:\n",
    "        z = 1\n",
    "    return z\n",
    "\n",
    "def gameday(s):\n",
    "    z = 0\n",
    "    x = re.findall(r'\\((.*?)\\)',s)\n",
    "    if x != [] and x[0] == 'College GameDay':\n",
    "        z = 1\n",
    "    return z\n",
    "\n",
    "def clean_site(s):\n",
    "    #split at city?\n",
    "    x = re.sub(r'\\((.*?)\\)','',s)\n",
    "    #x = re.findall(r'\\w+', x)\n",
    "    return x\n",
    "\n",
    "cfb['Special'] = cfb['Site'].apply(site2special)\n",
    "cfb['GD'] = cfb['Site'].apply(gameday)\n",
    "cfb['Site'] = cfb['Site'].apply(clean_site)"
   ]
  },
  {
   "cell_type": "markdown",
   "metadata": {},
   "source": [
    "**Clean DateTime Features**"
   ]
  },
  {
   "cell_type": "code",
   "execution_count": 32,
   "metadata": {},
   "outputs": [],
   "source": [
    "# convert all date info to DateTime\n",
    "cfb['DateTime'] = pd.to_datetime(cfb['Date'] + ' ' + cfb['Time'])"
   ]
  },
  {
   "cell_type": "markdown",
   "metadata": {},
   "source": [
    "**Drop redundant Features**"
   ]
  },
  {
   "cell_type": "code",
   "execution_count": 33,
   "metadata": {},
   "outputs": [],
   "source": [
    "# drop redundant features\n",
    "dropCol = ['Date','Time','Result','Year','Month','Day']\n",
    "cfb.drop(columns=dropCol,inplace=True)"
   ]
  },
  {
   "cell_type": "markdown",
   "metadata": {},
   "source": [
    "**Cleaned DataFrame**"
   ]
  },
  {
   "cell_type": "code",
   "execution_count": 34,
   "metadata": {},
   "outputs": [
    {
     "data": {
      "text/html": [
       "<div>\n",
       "<style scoped>\n",
       "    .dataframe tbody tr th:only-of-type {\n",
       "        vertical-align: middle;\n",
       "    }\n",
       "\n",
       "    .dataframe tbody tr th {\n",
       "        vertical-align: top;\n",
       "    }\n",
       "\n",
       "    .dataframe thead th {\n",
       "        text-align: right;\n",
       "    }\n",
       "</style>\n",
       "<table border=\"1\" class=\"dataframe\">\n",
       "  <thead>\n",
       "    <tr style=\"text-align: right;\">\n",
       "      <th></th>\n",
       "      <th>Team</th>\n",
       "      <th>Opponent</th>\n",
       "      <th>Rank</th>\n",
       "      <th>Site</th>\n",
       "      <th>TV</th>\n",
       "      <th>Attendance</th>\n",
       "      <th>Current Wins</th>\n",
       "      <th>Current Losses</th>\n",
       "      <th>Stadium Capacity</th>\n",
       "      <th>Fill Rate</th>\n",
       "      <th>...</th>\n",
       "      <th>Opponent_Rank</th>\n",
       "      <th>Conference</th>\n",
       "      <th>conference_game</th>\n",
       "      <th>Win</th>\n",
       "      <th>Team_Score</th>\n",
       "      <th>Opp_Score</th>\n",
       "      <th>OT</th>\n",
       "      <th>Special</th>\n",
       "      <th>GD</th>\n",
       "      <th>DateTime</th>\n",
       "    </tr>\n",
       "  </thead>\n",
       "  <tbody>\n",
       "    <tr>\n",
       "      <th>0</th>\n",
       "      <td>Arkansas</td>\n",
       "      <td>Southwest Missouri State</td>\n",
       "      <td>NaN</td>\n",
       "      <td>War Memorial StadiumLittle Rock, AR</td>\n",
       "      <td>NaN</td>\n",
       "      <td>53946</td>\n",
       "      <td>0</td>\n",
       "      <td>0</td>\n",
       "      <td>53727</td>\n",
       "      <td>1.004076</td>\n",
       "      <td>...</td>\n",
       "      <td>NaN</td>\n",
       "      <td>SEC</td>\n",
       "      <td>1</td>\n",
       "      <td>1</td>\n",
       "      <td>38</td>\n",
       "      <td>0</td>\n",
       "      <td>0</td>\n",
       "      <td>0</td>\n",
       "      <td>0</td>\n",
       "      <td>2000-09-02 20:00:00</td>\n",
       "    </tr>\n",
       "    <tr>\n",
       "      <th>1</th>\n",
       "      <td>Arkansas</td>\n",
       "      <td>Boise State</td>\n",
       "      <td>NaN</td>\n",
       "      <td>War Memorial StadiumLittle Rock, AR</td>\n",
       "      <td>NaN</td>\n",
       "      <td>54286</td>\n",
       "      <td>1</td>\n",
       "      <td>0</td>\n",
       "      <td>53727</td>\n",
       "      <td>1.010404</td>\n",
       "      <td>...</td>\n",
       "      <td>NaN</td>\n",
       "      <td>SEC</td>\n",
       "      <td>1</td>\n",
       "      <td>1</td>\n",
       "      <td>38</td>\n",
       "      <td>31</td>\n",
       "      <td>0</td>\n",
       "      <td>0</td>\n",
       "      <td>0</td>\n",
       "      <td>2000-09-16 18:00:00</td>\n",
       "    </tr>\n",
       "    <tr>\n",
       "      <th>2</th>\n",
       "      <td>Arkansas</td>\n",
       "      <td>Alabama</td>\n",
       "      <td>NaN</td>\n",
       "      <td>Razorback StadiumFayetteville, AR</td>\n",
       "      <td>1</td>\n",
       "      <td>51482</td>\n",
       "      <td>2</td>\n",
       "      <td>0</td>\n",
       "      <td>50019</td>\n",
       "      <td>1.029249</td>\n",
       "      <td>...</td>\n",
       "      <td>NaN</td>\n",
       "      <td>SEC</td>\n",
       "      <td>0</td>\n",
       "      <td>1</td>\n",
       "      <td>28</td>\n",
       "      <td>21</td>\n",
       "      <td>0</td>\n",
       "      <td>0</td>\n",
       "      <td>0</td>\n",
       "      <td>2000-09-23 20:00:00</td>\n",
       "    </tr>\n",
       "    <tr>\n",
       "      <th>3</th>\n",
       "      <td>Arkansas</td>\n",
       "      <td>Georgia</td>\n",
       "      <td>NaN</td>\n",
       "      <td>Razorback StadiumFayetteville, AR</td>\n",
       "      <td>1</td>\n",
       "      <td>51162</td>\n",
       "      <td>3</td>\n",
       "      <td>0</td>\n",
       "      <td>50019</td>\n",
       "      <td>1.022851</td>\n",
       "      <td>...</td>\n",
       "      <td>25</td>\n",
       "      <td>SEC</td>\n",
       "      <td>0</td>\n",
       "      <td>0</td>\n",
       "      <td>7</td>\n",
       "      <td>38</td>\n",
       "      <td>0</td>\n",
       "      <td>0</td>\n",
       "      <td>0</td>\n",
       "      <td>2000-09-30 11:30:00</td>\n",
       "    </tr>\n",
       "    <tr>\n",
       "      <th>4</th>\n",
       "      <td>Arkansas</td>\n",
       "      <td>Louisiana Monroe</td>\n",
       "      <td>NaN</td>\n",
       "      <td>Razorback StadiumFayetteville, AR</td>\n",
       "      <td>NaN</td>\n",
       "      <td>50947</td>\n",
       "      <td>3</td>\n",
       "      <td>1</td>\n",
       "      <td>50019</td>\n",
       "      <td>1.018553</td>\n",
       "      <td>...</td>\n",
       "      <td>NaN</td>\n",
       "      <td>SEC</td>\n",
       "      <td>1</td>\n",
       "      <td>1</td>\n",
       "      <td>52</td>\n",
       "      <td>6</td>\n",
       "      <td>0</td>\n",
       "      <td>0</td>\n",
       "      <td>0</td>\n",
       "      <td>2000-10-07 18:00:00</td>\n",
       "    </tr>\n",
       "    <tr>\n",
       "      <th>...</th>\n",
       "      <td>...</td>\n",
       "      <td>...</td>\n",
       "      <td>...</td>\n",
       "      <td>...</td>\n",
       "      <td>...</td>\n",
       "      <td>...</td>\n",
       "      <td>...</td>\n",
       "      <td>...</td>\n",
       "      <td>...</td>\n",
       "      <td>...</td>\n",
       "      <td>...</td>\n",
       "      <td>...</td>\n",
       "      <td>...</td>\n",
       "      <td>...</td>\n",
       "      <td>...</td>\n",
       "      <td>...</td>\n",
       "      <td>...</td>\n",
       "      <td>...</td>\n",
       "      <td>...</td>\n",
       "      <td>...</td>\n",
       "      <td>...</td>\n",
       "    </tr>\n",
       "    <tr>\n",
       "      <th>6667</th>\n",
       "      <td>UTEP</td>\n",
       "      <td>New Mexico State</td>\n",
       "      <td>NaN</td>\n",
       "      <td>Sun BowlEl Paso, TX</td>\n",
       "      <td>1</td>\n",
       "      <td>19412</td>\n",
       "      <td>0</td>\n",
       "      <td>3</td>\n",
       "      <td>51500</td>\n",
       "      <td>0.376932</td>\n",
       "      <td>...</td>\n",
       "      <td>NaN</td>\n",
       "      <td>CUSA</td>\n",
       "      <td>1</td>\n",
       "      <td>0</td>\n",
       "      <td>20</td>\n",
       "      <td>27</td>\n",
       "      <td>0</td>\n",
       "      <td>1</td>\n",
       "      <td>0</td>\n",
       "      <td>2018-09-22 17:30:00</td>\n",
       "    </tr>\n",
       "    <tr>\n",
       "      <th>6668</th>\n",
       "      <td>UTEP</td>\n",
       "      <td>North Texas</td>\n",
       "      <td>NaN</td>\n",
       "      <td>Sun BowlEl Paso, TX</td>\n",
       "      <td>1</td>\n",
       "      <td>12809</td>\n",
       "      <td>0</td>\n",
       "      <td>5</td>\n",
       "      <td>51500</td>\n",
       "      <td>0.248718</td>\n",
       "      <td>...</td>\n",
       "      <td>NaN</td>\n",
       "      <td>CUSA</td>\n",
       "      <td>0</td>\n",
       "      <td>0</td>\n",
       "      <td>24</td>\n",
       "      <td>27</td>\n",
       "      <td>0</td>\n",
       "      <td>0</td>\n",
       "      <td>0</td>\n",
       "      <td>2018-10-06 17:30:00</td>\n",
       "    </tr>\n",
       "    <tr>\n",
       "      <th>6669</th>\n",
       "      <td>UTEP</td>\n",
       "      <td>UAB</td>\n",
       "      <td>NaN</td>\n",
       "      <td>Sun BowlEl Paso, TX</td>\n",
       "      <td>1</td>\n",
       "      <td>10787</td>\n",
       "      <td>0</td>\n",
       "      <td>7</td>\n",
       "      <td>51500</td>\n",
       "      <td>0.209456</td>\n",
       "      <td>...</td>\n",
       "      <td>NaN</td>\n",
       "      <td>CUSA</td>\n",
       "      <td>0</td>\n",
       "      <td>0</td>\n",
       "      <td>0</td>\n",
       "      <td>19</td>\n",
       "      <td>0</td>\n",
       "      <td>0</td>\n",
       "      <td>0</td>\n",
       "      <td>2018-10-27 17:30:00</td>\n",
       "    </tr>\n",
       "    <tr>\n",
       "      <th>6670</th>\n",
       "      <td>UTEP</td>\n",
       "      <td>Middle Tennessee</td>\n",
       "      <td>NaN</td>\n",
       "      <td>Sun BowlEl Paso, TX</td>\n",
       "      <td>1</td>\n",
       "      <td>9690</td>\n",
       "      <td>1</td>\n",
       "      <td>8</td>\n",
       "      <td>51500</td>\n",
       "      <td>0.188155</td>\n",
       "      <td>...</td>\n",
       "      <td>NaN</td>\n",
       "      <td>CUSA</td>\n",
       "      <td>0</td>\n",
       "      <td>0</td>\n",
       "      <td>32</td>\n",
       "      <td>48</td>\n",
       "      <td>0</td>\n",
       "      <td>0</td>\n",
       "      <td>0</td>\n",
       "      <td>2018-11-10 13:00:00</td>\n",
       "    </tr>\n",
       "    <tr>\n",
       "      <th>6671</th>\n",
       "      <td>UTEP</td>\n",
       "      <td>Southern Miss</td>\n",
       "      <td>NaN</td>\n",
       "      <td>Sun BowlEl Paso, TX</td>\n",
       "      <td>1</td>\n",
       "      <td>14962</td>\n",
       "      <td>1</td>\n",
       "      <td>10</td>\n",
       "      <td>51500</td>\n",
       "      <td>0.290524</td>\n",
       "      <td>...</td>\n",
       "      <td>NaN</td>\n",
       "      <td>CUSA</td>\n",
       "      <td>0</td>\n",
       "      <td>0</td>\n",
       "      <td>7</td>\n",
       "      <td>39</td>\n",
       "      <td>0</td>\n",
       "      <td>0</td>\n",
       "      <td>0</td>\n",
       "      <td>2018-11-24 13:00:00</td>\n",
       "    </tr>\n",
       "  </tbody>\n",
       "</table>\n",
       "<p>6672 rows × 27 columns</p>\n",
       "</div>"
      ],
      "text/plain": [
       "          Team                  Opponent Rank  \\\n",
       "0     Arkansas  Southwest Missouri State  NaN   \n",
       "1     Arkansas               Boise State  NaN   \n",
       "2     Arkansas                   Alabama  NaN   \n",
       "3     Arkansas                   Georgia  NaN   \n",
       "4     Arkansas          Louisiana Monroe  NaN   \n",
       "...        ...                       ...  ...   \n",
       "6667      UTEP          New Mexico State  NaN   \n",
       "6668      UTEP               North Texas  NaN   \n",
       "6669      UTEP                       UAB  NaN   \n",
       "6670      UTEP          Middle Tennessee  NaN   \n",
       "6671      UTEP             Southern Miss  NaN   \n",
       "\n",
       "                                     Site   TV  Attendance  Current Wins  \\\n",
       "0     War Memorial StadiumLittle Rock, AR  NaN       53946             0   \n",
       "1     War Memorial StadiumLittle Rock, AR  NaN       54286             1   \n",
       "2       Razorback StadiumFayetteville, AR    1       51482             2   \n",
       "3       Razorback StadiumFayetteville, AR    1       51162             3   \n",
       "4       Razorback StadiumFayetteville, AR  NaN       50947             3   \n",
       "...                                   ...  ...         ...           ...   \n",
       "6667                 Sun BowlEl Paso, TX     1       19412             0   \n",
       "6668                  Sun BowlEl Paso, TX    1       12809             0   \n",
       "6669                  Sun BowlEl Paso, TX    1       10787             0   \n",
       "6670                  Sun BowlEl Paso, TX    1        9690             1   \n",
       "6671                  Sun BowlEl Paso, TX    1       14962             1   \n",
       "\n",
       "      Current Losses  Stadium Capacity  Fill Rate  ...  Opponent_Rank  \\\n",
       "0                  0             53727   1.004076  ...            NaN   \n",
       "1                  0             53727   1.010404  ...            NaN   \n",
       "2                  0             50019   1.029249  ...            NaN   \n",
       "3                  0             50019   1.022851  ...             25   \n",
       "4                  1             50019   1.018553  ...            NaN   \n",
       "...              ...               ...        ...  ...            ...   \n",
       "6667               3             51500   0.376932  ...            NaN   \n",
       "6668               5             51500   0.248718  ...            NaN   \n",
       "6669               7             51500   0.209456  ...            NaN   \n",
       "6670               8             51500   0.188155  ...            NaN   \n",
       "6671              10             51500   0.290524  ...            NaN   \n",
       "\n",
       "      Conference  conference_game  Win  Team_Score  Opp_Score  OT Special GD  \\\n",
       "0            SEC                1    1          38          0   0       0  0   \n",
       "1            SEC                1    1          38         31   0       0  0   \n",
       "2            SEC                0    1          28         21   0       0  0   \n",
       "3            SEC                0    0           7         38   0       0  0   \n",
       "4            SEC                1    1          52          6   0       0  0   \n",
       "...          ...              ...  ...         ...        ...  ..     ... ..   \n",
       "6667        CUSA                1    0          20         27   0       1  0   \n",
       "6668        CUSA                0    0          24         27   0       0  0   \n",
       "6669        CUSA                0    0           0         19   0       0  0   \n",
       "6670        CUSA                0    0          32         48   0       0  0   \n",
       "6671        CUSA                0    0           7         39   0       0  0   \n",
       "\n",
       "                DateTime  \n",
       "0    2000-09-02 20:00:00  \n",
       "1    2000-09-16 18:00:00  \n",
       "2    2000-09-23 20:00:00  \n",
       "3    2000-09-30 11:30:00  \n",
       "4    2000-10-07 18:00:00  \n",
       "...                  ...  \n",
       "6667 2018-09-22 17:30:00  \n",
       "6668 2018-10-06 17:30:00  \n",
       "6669 2018-10-27 17:30:00  \n",
       "6670 2018-11-10 13:00:00  \n",
       "6671 2018-11-24 13:00:00  \n",
       "\n",
       "[6672 rows x 27 columns]"
      ]
     },
     "execution_count": 34,
     "metadata": {},
     "output_type": "execute_result"
    }
   ],
   "source": [
    "cfb"
   ]
  },
  {
   "cell_type": "markdown",
   "metadata": {},
   "source": [
    "# Below I am just messing around with some visualizations"
   ]
  },
  {
   "cell_type": "code",
   "execution_count": 124,
   "metadata": {},
   "outputs": [
    {
     "data": {
      "image/png": "[encoded data removed]",
      "text/plain": [
       "<Figure size 432x288 with 1 Axes>"
      ]
     },
     "metadata": {
      "needs_background": "light"
     },
     "output_type": "display_data"
    }
   ],
   "source": [
    "# Attendance by Conferece - Overall Not Super Helpful but can see SEC and Big 10 have highest peaks of attendance\n",
    "plot(cfb['Attendance'], cfb['Conference'], marker='o', color='blue', linestyle='None')\n",
    "xlabel=('Attendance')\n",
    "ylabel=('Conference')\n",
    "title=('Attendance versus Conference')\n",
    "show()"
   ]
  },
  {
   "cell_type": "code",
   "execution_count": 43,
   "metadata": {},
   "outputs": [
    {
     "data": {
      "image/png": "[encoded data removed]",
      "text/plain": [
       "<Figure size 432x288 with 1 Axes>"
      ]
     },
     "metadata": {
      "needs_background": "light"
     },
     "output_type": "display_data"
    }
   ],
   "source": [
    "#Attendance vs GD - Not super telling although when GD is present, the lowest attendance is > 40,000\n",
    "plot(cfb['GD'], cfb['Attendance'], marker='o', color='blue', linestyle='None')\n",
    "xlabel('GD')\n",
    "ylabel('Attendance')\n",
    "title('Attendance versus GD')\n",
    "show()"
   ]
  },
  {
   "cell_type": "code",
   "execution_count": 134,
   "metadata": {},
   "outputs": [
    {
     "data": {
      "image/png": "[encoded data removed]",
      "text/plain": [
       "<Figure size 432x288 with 1 Axes>"
      ]
     },
     "metadata": {
      "needs_background": "light"
     },
     "output_type": "display_data"
    }
   ],
   "source": [
    "# GD vs Attendance - Not super helpful but shows there are only 6 conferences that have had GD\n",
    "plot(cfb['GD'], cfb['Conference'], marker='o', color='blue', linestyle='None')\n",
    "show()"
   ]
  },
  {
   "cell_type": "code",
   "execution_count": 52,
   "metadata": {},
   "outputs": [],
   "source": [
    "# Next 2 plots im just messing around with grouping on conference but nothing super helpful\n",
    "SEC = cfb[cfb['Conference'] == 'SEC']\n",
    "Big12 = cfb[cfb['Conference'] == 'Big-12']\n",
    "WAC = cfb[cfb['Conference'] == 'WAC']\n",
    "MWC = cfb[cfb['Conference'] == 'MWC']\n",
    "Ind = cfb[cfb['Conference'] == 'Independent']\n",
    "ACC = cfb[cfb['Conference'] == 'ACC']\n",
    "PAC12 = cfb[cfb['Conference'] == 'PAC-12']\n",
    "Big10 = cfb[cfb['Conference'] == 'Big-10']\n",
    "Mid = cfb[cfb['Conference'] == 'Mid-American']\n",
    "CUSA = cfb[cfb['Conference'] == 'CUSA']\n",
    "AAC = cfb[cfb['Conference'] == 'AAC']\n",
    "BigEast = cfb[cfb['Conference'] == 'Big East']\n",
    "SunBelt = cfb[cfb['Conference'] == 'Sun Belt']\n",
    "FCS = cfb[cfb['Conference'] == 'FCS']"
   ]
  },
  {
   "cell_type": "code",
   "execution_count": 54,
   "metadata": {},
   "outputs": [
    {
     "data": {
      "image/png": "[encoded data removed]",
      "text/plain": [
       "<Figure size 432x288 with 1 Axes>"
      ]
     },
     "metadata": {
      "needs_background": "light"
     },
     "output_type": "display_data"
    }
   ],
   "source": [
    "plot(SEC['Attendance'], SEC['Current Wins'], marker='o', linestyle='None', label='SEC')\n",
    "plot(Big12['Attendance'], Big12['Current Wins'], marker='o', linestyle='None', label='Big 12')\n",
    "plot(WAC['Attendance'], WAC['Current Wins'], marker='o', linestyle='None', label='WAC')\n",
    "xlabel('Attendance')\n",
    "ylabel('Current Wins')\n",
    "legend(numpoints=1, loc='best')\n",
    "show()"
   ]
  },
  {
   "cell_type": "code",
   "execution_count": 133,
   "metadata": {},
   "outputs": [
    {
     "data": {
      "image/png": "[encoded data removed]",
      "text/plain": [
       "<Figure size 432x288 with 1 Axes>"
      ]
     },
     "metadata": {
      "needs_background": "light"
     },
     "output_type": "display_data"
    }
   ],
   "source": [
    "plot(SEC['Attendance'], SEC['Stadium Capacity'], marker='o', linestyle='None', label='SEC')\n",
    "plot(Big12['Attendance'], Big12['Stadium Capacity'], marker='o', linestyle='None', label='Big 12')\n",
    "plot(WAC['Attendance'], WAC['Stadium Capacity'], marker='o', linestyle='None', label='WAC')\n",
    "legend(numpoints=1, loc='best')\n",
    "show()"
   ]
  },
  {
   "cell_type": "code",
   "execution_count": 130,
   "metadata": {},
   "outputs": [
    {
     "data": {
      "image/png": "[encoded data removed]",
      "text/plain": [
       "<Figure size 432x288 with 1 Axes>"
      ]
     },
     "metadata": {
      "needs_background": "light"
     },
     "output_type": "display_data"
    }
   ],
   "source": [
    "# Wins by Conference - shows which conferences have the most wins - could be kinda cool\n",
    "wins_conf = cfb.groupby(['Conference'])[['Win']].sum().sort_values(by='Win', ascending=False)\n",
    "wins_conf.plot(kind='bar')\n",
    "xlabel = 'Conference'"
   ]
  },
  {
   "cell_type": "code",
   "execution_count": 118,
   "metadata": {},
   "outputs": [
    {
     "data": {
      "text/plain": [
       "<matplotlib.axes._subplots.AxesSubplot at 0x1d82fa02748>"
      ]
     },
     "execution_count": 118,
     "metadata": {},
     "output_type": "execute_result"
    },
    {
     "data": {
      "image/png": "[encoded data removed]",
      "text/plain": [
       "<Figure size 432x288 with 1 Axes>"
      ]
     },
     "metadata": {
      "needs_background": "light"
     },
     "output_type": "display_data"
    }
   ],
   "source": [
    "# Teams vs Wins - shows top 10 teams with the most wins - could be kinda cool\n",
    "team_win = cfb.groupby(['Team'])[['Win']].sum().iloc[:10].sort_values(by='Win',ascending=False)\n",
    "team_win.plot(kind='bar')"
   ]
  },
  {
   "cell_type": "code",
   "execution_count": 62,
   "metadata": {},
   "outputs": [
    {
     "data": {
      "text/plain": [
       "Text(0, 0.5, 'Frequency')"
      ]
     },
     "execution_count": 62,
     "metadata": {},
     "output_type": "execute_result"
    },
    {
     "data": {
      "image/png": "[encoded data removed]",
      "text/plain": [
       "<Figure size 432x288 with 1 Axes>"
      ]
     },
     "metadata": {
      "needs_background": "light"
     },
     "output_type": "display_data"
    }
   ],
   "source": [
    "# frequency of attendance - most common is around 20,000 people - overall not super telling\n",
    "cfb['Attendance'].hist()\n",
    "xlabel('Attendance')\n",
    "ylabel('Frequency')"
   ]
  },
  {
   "cell_type": "code",
   "execution_count": 131,
   "metadata": {},
   "outputs": [
    {
     "data": {
      "text/plain": [
       "(-1.1048000179467214,\n",
       " 1.1002285763593342,\n",
       " -1.101421049825835,\n",
       " 1.109316832489613)"
      ]
     },
     "execution_count": 131,
     "metadata": {},
     "output_type": "execute_result"
    },
    {
     "data": {
      "image/png": "[encoded data removed]",
      "text/plain": [
       "<Figure size 432x288 with 1 Axes>"
      ]
     },
     "metadata": {},
     "output_type": "display_data"
    }
   ],
   "source": [
    "# Shows how the amounts of teams in each conference in our data set - could be kinda cool\n",
    "conf_numb = cfb[['Team', 'Conference']].drop_duplicates(subset='Team')\n",
    "conf_numb = conf_numb['Conference'].value_counts()\n",
    "conf_numb\n",
    "\n",
    "pie(conf_numb.values,\n",
    "    labels=conf_numb.index.values,\n",
    "    shadow=True)\n",
    "axis('equal')"
   ]
  }
 ],
 "metadata": {
  "kernelspec": {
   "display_name": "Python 3",
   "language": "python",
   "name": "python3"
  },
  "language_info": {
   "codemirror_mode": {
    "name": "ipython",
    "version": 3
   },
   "file_extension": ".py",
   "mimetype": "text/x-python",
   "name": "python",
   "nbconvert_exporter": "python",
   "pygments_lexer": "ipython3",
   "version": "3.7.6"
  }
 },
 "nbformat": 4,
 "nbformat_minor": 4
}
