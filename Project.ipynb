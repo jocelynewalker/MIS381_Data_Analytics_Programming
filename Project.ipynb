{
 "cells": [
  {
   "cell_type": "markdown",
   "metadata": {},
   "source": [
    "**Setting up workspace**"
   ]
  },
  {
   "cell_type": "code",
   "execution_count": 1,
   "metadata": {},
   "outputs": [
    {
     "name": "stdout",
     "output_type": "stream",
     "text": [
      "Populating the interactive namespace from numpy and matplotlib\n"
     ]
    }
   ],
   "source": [
    "from pandas import Series, DataFrame\n",
    "import pandas as pd\n",
    "%pylab inline\n",
    "from datetime import datetime"
   ]
  },
  {
   "cell_type": "markdown",
   "metadata": {},
   "source": [
    "**Importing data**"
   ]
  },
  {
   "cell_type": "code",
   "execution_count": 2,
   "metadata": {},
   "outputs": [
    {
     "name": "stdout",
     "output_type": "stream",
     "text": [
      "Index(['Date', 'Team', 'Time', 'Opponent', 'Rank', 'Site', 'TV', 'Result',\n",
      "       'Attendance', 'Current Wins', 'Current Losses', 'Stadium Capacity',\n",
      "       'Fill Rate', 'New Coach', 'Tailgating', 'PRCP', 'SNOW', 'SNWD', 'TMAX',\n",
      "       'TMIN', 'Opponent_Rank', 'Conference', 'Year', 'Month', 'Day'],\n",
      "      dtype='object')\n"
     ]
    }
   ],
   "source": [
    "cfb = pd.read_csv('CFBeattendance.csv', encoding= 'unicode_escape').dropna()\n",
    "print(cfb.columns)"
   ]
  },
  {
   "cell_type": "markdown",
   "metadata": {},
   "source": [
    "**Cleaning data**"
   ]
  },
  {
   "cell_type": "code",
   "execution_count": 3,
   "metadata": {},
   "outputs": [],
   "source": [
    "# adding a column to show team results\n",
    "cfb['TeamResult'] = cfb.Result.str[0]\n",
    "\n",
    "# cleaning team results to just show wins and losses\n",
    "cfb = cfb[cfb.TeamResult != 'B']\n",
    "cfb = cfb[cfb.TeamResult != 'N']"
   ]
  },
  {
   "cell_type": "markdown",
   "metadata": {},
   "source": [
    "**Cleaning the date-time and setting the index to the day and time of the game**"
   ]
  },
  {
   "cell_type": "code",
   "execution_count": 4,
   "metadata": {},
   "outputs": [],
   "source": [
    "cfb['DateTime'] = pd.to_datetime(cfb['Date'] + ' ' + cfb['Time'])\n",
    "cfb['Date'] = pd.to_datetime(cfb['Date']).dt.date\n",
    "cfb['Time'] = pd.to_datetime(cfb['Time']).dt.time\n",
    "cfb.set_index('DateTime', inplace = True)"
   ]
  },
  {
   "cell_type": "markdown",
   "metadata": {},
   "source": [
    "**Cleaning the Result Column**"
   ]
  },
  {
   "cell_type": "code",
   "execution_count": 5,
   "metadata": {},
   "outputs": [
    {
     "data": {
      "text/plain": [
       "[<matplotlib.lines.Line2D at 0x11fce85bec8>]"
      ]
     },
     "execution_count": 5,
     "metadata": {},
     "output_type": "execute_result"
    },
    {
     "data": {
      "image/png": "[encoded data removed]",
      "text/plain": [
       "<Figure size 432x288 with 1 Axes>"
      ]
     },
     "metadata": {
      "needs_background": "light"
     },
     "output_type": "display_data"
    }
   ],
   "source": [
    "def find_numbers(s):\n",
    "    return re.findall(r'\\d+', s)\n",
    "\n",
    "def score_dif(s):\n",
    "    return int(s[0]) - int(s[1])\n",
    "\n",
    "def find_ot(s):\n",
    "    list = [int(i) for i in re.findall(r\"(\\d+)OT\", s)]\n",
    "    if list == []:\n",
    "        if 'OT' in s:\n",
    "            return 1\n",
    "        else:\n",
    "            return 0\n",
    "    else:\n",
    "        return list[0]\n",
    "\n",
    "# finding just the scores in the results\n",
    "cfb['Scores'] = (cfb['Result'].map(find_numbers))\n",
    "\n",
    "# finding score difference \n",
    "cfb['ScoreDiff'] = (cfb['Scores'].map(score_dif))\n",
    "\n",
    "# noting now many overtimes \n",
    "cfb['OT'] = cfb['Result'].map(find_ot)\n",
    "\n",
    "#cfb.boxplot(column='Fill Rate', by='Year')\n",
    "#scatter(cfb['OT'], cfb['Attendance'], s=1)\n",
    "\n",
    "# fill rate trend\n",
    "plot(cfb.groupby('Year')['Fill Rate'].mean())"
   ]
  },
  {
   "cell_type": "code",
   "execution_count": 6,
   "metadata": {},
   "outputs": [
    {
     "name": "stdout",
     "output_type": "stream",
     "text": [
      "Team\n",
      "Georgia State     0.295796\n",
      "Ball State        0.377915\n",
      "South Alabama     0.427768\n",
      "Kent State        0.460746\n",
      "Memphis           0.520780\n",
      "                    ...   \n",
      "Notre Dame        1.000015\n",
      "Wisconsin         1.001305\n",
      "Michigan State    1.003290\n",
      "Oklahoma          1.033776\n",
      "Nebraska          1.057994\n",
      "Name: Fill Rate, Length: 63, dtype: float64\n",
      "      Fill Rate\n",
      "Rank           \n",
      "1      0.998106\n",
      "2      0.993094\n",
      "3      0.974441\n",
      "4      0.960872\n",
      "5      0.990305\n",
      "6      0.965400\n",
      "7      0.961837\n",
      "8      0.965779\n",
      "9      0.953325\n",
      "10     0.976486\n",
      "11     0.968902\n",
      "12     0.982904\n",
      "13     0.913965\n",
      "14     0.969980\n",
      "15     0.951674\n",
      "16     0.946960\n",
      "17     0.925690\n",
      "18     0.919759\n",
      "19     0.943813\n",
      "20     0.941482\n",
      "21     0.928938\n",
      "22     0.942707\n",
      "23     0.935226\n",
      "24     0.929700\n",
      "25     0.931306\n",
      "99     0.748975\n"
     ]
    }
   ],
   "source": [
    "# which teams have the highest fill rates\n",
    "print(cfb.groupby('Team')['Fill Rate'].mean().sort_values())\n",
    "\n",
    "def RankToInt(s):\n",
    "    if 'NR' in s:\n",
    "        return 99\n",
    "    else:\n",
    "        return int(s)\n",
    "\n",
    "# set NR team to r = 99\n",
    "cfb['Rank'] = cfb['Rank'].map(RankToInt)\n",
    "\n",
    "# viewing fill rate based on Rank\n",
    "print(cfb.groupby('Rank')[['Fill Rate']].mean().sort_values(by='Rank'))"
   ]
  },
  {
   "cell_type": "code",
   "execution_count": 22,
   "metadata": {},
   "outputs": [
    {
     "name": "stdout",
     "output_type": "stream",
     "text": [
      "isRanked                  0         1  Rank Lift\n",
      "Team                                            \n",
      "Ball State         0.366469  0.648797  77.040250\n",
      "UTEP               0.581445  0.883942  52.025058\n",
      "Kent State         0.458486  0.668696  45.848890\n",
      "Northwestern       0.605942  0.876715  44.686349\n",
      "UCF                0.639168  0.918749  43.741335\n",
      "San Diego State    0.562107  0.784907  39.636601\n",
      "Miami (OH)         0.627855  0.875850  39.498671\n",
      "Kansas             0.721639  1.001031  38.716205\n",
      "Northern Illinois  0.642688  0.887746  38.130036\n",
      "Hawaii             0.653371  0.878493  34.455411\n",
      "Baylor             0.724599  0.972753  34.247026\n",
      "Memphis            0.512367  0.679223  32.565615\n",
      "Louisiana Tech     0.636740  0.804886  26.407283\n",
      "California         0.705142  0.860479  22.029278\n",
      "Rutgers            0.821907  0.998413  21.475217\n",
      "Virginia           0.791788  0.958083  21.002529\n",
      "USC                0.722128  0.862606  19.453276\n",
      "Southern Miss      0.770363  0.907608  17.815497\n",
      "Troy               0.672683  0.792133  17.757384\n",
      "Syracuse           0.767740  0.887072  15.543240\n",
      "isRanked               0         1  Rank Lift\n",
      "Team                                         \n",
      "Notre Dame      1.000000  1.000026   0.002625\n",
      "Michigan State  1.002592  1.004229   0.163319\n",
      "Oklahoma        1.031912  1.033878   0.190554\n",
      "Alabama         0.993213  0.998935   0.576090\n",
      "Nebraska        1.053483  1.062107   0.818660\n",
      "NC State        0.968432  0.981000   1.297813\n",
      "Kansas State    0.975822  0.993692   1.831271\n",
      "Georgia Tech    0.903726  0.920784   1.887448\n",
      "Penn State      0.962130  0.990798   2.979621\n",
      "Clemson         0.955280  0.987044   3.325099\n",
      "Iowa State      0.935179  0.978898   4.674912\n",
      "Oregon State    0.929746  0.973362   4.691187\n",
      "Boise State     0.932829  0.980272   5.085863\n",
      "Texas A&M       0.962045  1.012262   5.219765\n",
      "Arkansas        0.943180  0.996029   5.603297\n",
      "Boston College  0.841406  0.889626   5.730889\n",
      "Toledo          0.809732  0.858954   6.078802\n",
      "BYU             0.926725  0.983141   6.087767\n",
      "Arizona         0.875817  0.930746   6.271747\n",
      "Florida State   0.903436  0.961969   6.478825\n"
     ]
    },
    {
     "data": {
      "text/plain": [
       "<matplotlib.collections.PathCollection at 0x11fd0020988>"
      ]
     },
     "execution_count": 22,
     "metadata": {},
     "output_type": "execute_result"
    },
    {
     "data": {
      "image/png": "[encoded data removed]",
      "text/plain": [
       "<Figure size 432x288 with 1 Axes>"
      ]
     },
     "metadata": {
      "needs_background": "light"
     },
     "output_type": "display_data"
    }
   ],
   "source": [
    "def isRank(s):\n",
    "    if s <= 25:\n",
    "        return 1\n",
    "    else:\n",
    "        return 0\n",
    "\n",
    "\n",
    "\n",
    "cfb['isRanked'] = cfb['Rank'].map(isRank)\n",
    "pivoted = (pd.pivot_table(cfb, index = 'Team', \\\n",
    "                     columns = ['isRanked'], \\\n",
    "                     values = 'Fill Rate', \\\n",
    "                     fill_value = 0, \\\n",
    "                     aggfunc = 'mean').sort_values(by=1))\n",
    "\n",
    "pivoted['Rank Lift'] = 100*(pivoted[1] - pivoted[0])/pivoted[0]\n",
    "\n",
    "print(pivoted.sort_values(by='Rank Lift', ascending=False)[:20])\n",
    "\n",
    "mask = pivoted['Rank Lift'] > 0\n",
    "\n",
    "print(pivoted[mask].sort_values(by='Rank Lift')[:20])\n",
    "\n",
    "# site\n",
    "# opponent \n",
    "# team\n",
    "\n",
    "scatter(cfb['Current Wins'],cfb['Fill Rate'])"
   ]
  }
 ],
 "metadata": {
  "kernelspec": {
   "display_name": "Python 3",
   "language": "python",
   "name": "python3"
  },
  "language_info": {
   "codemirror_mode": {
    "name": "ipython",
    "version": 3
   },
   "file_extension": ".py",
   "mimetype": "text/x-python",
   "name": "python",
   "nbconvert_exporter": "python",
   "pygments_lexer": "ipython3",
   "version": "3.7.6"
  }
 },
 "nbformat": 4,
 "nbformat_minor": 4
}
