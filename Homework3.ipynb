{
 "cells": [
  {
   "cell_type": "markdown",
   "metadata": {},
   "source": [
    "**Preparing workspace packages**"
   ]
  },
  {
   "cell_type": "code",
   "execution_count": 1,
   "metadata": {},
   "outputs": [
    {
     "name": "stdout",
     "output_type": "stream",
     "text": [
      "Populating the interactive namespace from numpy and matplotlib\n"
     ]
    }
   ],
   "source": [
    "from pandas import Series, DataFrame\n",
    "import pandas as pd\n",
    "%pylab inline"
   ]
  },
  {
   "cell_type": "markdown",
   "metadata": {},
   "source": [
    "**Question 1**\n",
    "\n",
    "Read in the data using tab separator and name the columns."
   ]
  },
  {
   "cell_type": "code",
   "execution_count": 2,
   "metadata": {},
   "outputs": [],
   "source": [
    "gold = pd.read_csv('gold.txt', sep = '\t', header = None)\n",
    "gold.columns = [\"url\", \"category\"]\n",
    "labels = pd.read_csv('labels.txt', sep = '\t', header = None)\n",
    "labels.columns = [\"turk\",\"url\", \"category\"]"
   ]
  },
  {
   "cell_type": "markdown",
   "metadata": {},
   "source": [
    "**Question 2**\n",
    "\n",
    "Split into two DataFrames. Did a left join on the labels dataset to include all urls in labels and only the ones in the gold dataset. The labels not found in the gold dataset become the labels_unknown DataFrame. "
   ]
  },
  {
   "cell_type": "code",
   "execution_count": 3,
   "metadata": {},
   "outputs": [],
   "source": [
    "merged = DataFrame(labels.merge(gold, left_on='url', right_on='url', how='left', suffixes=['_labels', '_gold']))\n",
    "mask = merged.category_gold.isnull()\n",
    "labels_on_gold = merged[~mask]\n",
    "labels_unknown = merged[mask]"
   ]
  },
  {
   "cell_type": "markdown",
   "metadata": {},
   "source": [
    "**Question 3**\n",
    "\n",
    "Compute accuracies of turks. We created a column labeled \"correct\" if the gold category was identical to the labels category. Then, we used groupby to compute number of ratings and the average correctness on the gold DataFrame."
   ]
  },
  {
   "cell_type": "code",
   "execution_count": 4,
   "metadata": {},
   "outputs": [
    {
     "name": "stdout",
     "output_type": "stream",
     "text": [
      "                category_labels   correct\n",
      "turk                                     \n",
      "A112DVP1KG4QZU                1  1.000000\n",
      "A1253FXHCZ9CWM               29  0.517241\n",
      "A12CY1Q7XKJJDE                1  1.000000\n",
      "A12RE8G66WTO8B               20  0.750000\n",
      "A12Y1GTGIQDGRA                3  0.333333\n",
      "...                         ...       ...\n",
      "AYWOBMTEGFVVI                 1  0.000000\n",
      "AZ1S5BIG5R6P6                35  0.714286\n",
      "AZSDW7JJL5VA7               100  0.680000\n",
      "AZVB3RZW0OR1H                 3  0.666667\n",
      "amurray                      15  0.933333\n",
      "\n",
      "[269 rows x 2 columns]\n"
     ]
    },
    {
     "name": "stderr",
     "output_type": "stream",
     "text": [
      "C:\\Users\\jocel\\anaconda3\\lib\\site-packages\\ipykernel_launcher.py:1: SettingWithCopyWarning: \n",
      "A value is trying to be set on a copy of a slice from a DataFrame.\n",
      "Try using .loc[row_indexer,col_indexer] = value instead\n",
      "\n",
      "See the caveats in the documentation: https://pandas.pydata.org/pandas-docs/stable/user_guide/indexing.html#returning-a-view-versus-a-copy\n",
      "  \"\"\"Entry point for launching an IPython kernel.\n"
     ]
    }
   ],
   "source": [
    "labels_on_gold['correct'] = (labels_on_gold['category_labels']==labels_on_gold['category_gold']).astype(int)\n",
    "rater_goodness = labels_on_gold.groupby('turk')[['category_labels','correct']].agg({'category_labels':'count',\n",
    "                                                                                    'correct':'mean'})\n",
    "print(rater_goodness)"
   ]
  },
  {
   "cell_type": "markdown",
   "metadata": {},
   "source": [
    "**Question 4**\n",
    "\n",
    "Odds ratios. Created a new column using the correct column from Q3 to compute the odds formula."
   ]
  },
  {
   "cell_type": "code",
   "execution_count": 5,
   "metadata": {},
   "outputs": [
    {
     "name": "stdout",
     "output_type": "stream",
     "text": [
      "                category_labels   correct         odds\n",
      "turk                                                  \n",
      "A112DVP1KG4QZU                1  1.000000  1000.000000\n",
      "A1253FXHCZ9CWM               29  0.517241     1.069214\n",
      "A12CY1Q7XKJJDE                1  1.000000  1000.000000\n",
      "A12RE8G66WTO8B               20  0.750000     2.988048\n",
      "A12Y1GTGIQDGRA                3  0.333333     0.499251\n",
      "...                         ...       ...          ...\n",
      "AYWOBMTEGFVVI                 1  0.000000     0.000000\n",
      "AZ1S5BIG5R6P6                35  0.714286     2.491281\n",
      "AZSDW7JJL5VA7               100  0.680000     2.118380\n",
      "AZVB3RZW0OR1H                 3  0.666667     1.994018\n",
      "amurray                      15  0.933333    13.793103\n",
      "\n",
      "[269 rows x 3 columns]\n"
     ]
    }
   ],
   "source": [
    "rater_goodness['odds'] = rater_goodness['correct']/(1.001 - rater_goodness['correct'])\n",
    "print(rater_goodness)"
   ]
  },
  {
   "cell_type": "markdown",
   "metadata": {},
   "source": [
    "**Question 5**\n",
    "\n",
    "Most accurate turks. Created a mask to see which turks rated at least 20 URLs. Then, listed the most accurate turks based on average correctness. "
   ]
  },
  {
   "cell_type": "code",
   "execution_count": 6,
   "metadata": {},
   "outputs": [
    {
     "data": {
      "text/html": [
       "<div>\n",
       "<style scoped>\n",
       "    .dataframe tbody tr th:only-of-type {\n",
       "        vertical-align: middle;\n",
       "    }\n",
       "\n",
       "    .dataframe tbody tr th {\n",
       "        vertical-align: top;\n",
       "    }\n",
       "\n",
       "    .dataframe thead th {\n",
       "        text-align: right;\n",
       "    }\n",
       "</style>\n",
       "<table border=\"1\" class=\"dataframe\">\n",
       "  <thead>\n",
       "    <tr style=\"text-align: right;\">\n",
       "      <th></th>\n",
       "      <th>category_labels</th>\n",
       "      <th>correct</th>\n",
       "      <th>odds</th>\n",
       "    </tr>\n",
       "    <tr>\n",
       "      <th>turk</th>\n",
       "      <th></th>\n",
       "      <th></th>\n",
       "      <th></th>\n",
       "    </tr>\n",
       "  </thead>\n",
       "  <tbody>\n",
       "    <tr>\n",
       "      <th>A2U0R4X38GUKZE</th>\n",
       "      <td>20</td>\n",
       "      <td>0.950000</td>\n",
       "      <td>18.627451</td>\n",
       "    </tr>\n",
       "    <tr>\n",
       "      <th>A22C0PJUBFJTI0</th>\n",
       "      <td>36</td>\n",
       "      <td>0.916667</td>\n",
       "      <td>10.869565</td>\n",
       "    </tr>\n",
       "    <tr>\n",
       "      <th>A23YQUBXZPKILZ</th>\n",
       "      <td>24</td>\n",
       "      <td>0.875000</td>\n",
       "      <td>6.944444</td>\n",
       "    </tr>\n",
       "    <tr>\n",
       "      <th>ATVALOQVDCMZW</th>\n",
       "      <td>103</td>\n",
       "      <td>0.854369</td>\n",
       "      <td>5.826657</td>\n",
       "    </tr>\n",
       "    <tr>\n",
       "      <th>A1HIXWH4OXT8S4</th>\n",
       "      <td>40</td>\n",
       "      <td>0.825000</td>\n",
       "      <td>4.687500</td>\n",
       "    </tr>\n",
       "    <tr>\n",
       "      <th>A3220HG1O83HQ4</th>\n",
       "      <td>22</td>\n",
       "      <td>0.818182</td>\n",
       "      <td>4.475385</td>\n",
       "    </tr>\n",
       "    <tr>\n",
       "      <th>A32W20KGQXS0LL</th>\n",
       "      <td>25</td>\n",
       "      <td>0.800000</td>\n",
       "      <td>3.980100</td>\n",
       "    </tr>\n",
       "    <tr>\n",
       "      <th>A20PWAB7G3HDHU</th>\n",
       "      <td>20</td>\n",
       "      <td>0.800000</td>\n",
       "      <td>3.980100</td>\n",
       "    </tr>\n",
       "    <tr>\n",
       "      <th>AJSJVK40F5HM6</th>\n",
       "      <td>28</td>\n",
       "      <td>0.785714</td>\n",
       "      <td>3.649635</td>\n",
       "    </tr>\n",
       "    <tr>\n",
       "      <th>A31OCN4MNHUQ6W</th>\n",
       "      <td>184</td>\n",
       "      <td>0.777174</td>\n",
       "      <td>3.472222</td>\n",
       "    </tr>\n",
       "  </tbody>\n",
       "</table>\n",
       "</div>"
      ],
      "text/plain": [
       "                category_labels   correct       odds\n",
       "turk                                                \n",
       "A2U0R4X38GUKZE               20  0.950000  18.627451\n",
       "A22C0PJUBFJTI0               36  0.916667  10.869565\n",
       "A23YQUBXZPKILZ               24  0.875000   6.944444\n",
       "ATVALOQVDCMZW               103  0.854369   5.826657\n",
       "A1HIXWH4OXT8S4               40  0.825000   4.687500\n",
       "A3220HG1O83HQ4               22  0.818182   4.475385\n",
       "A32W20KGQXS0LL               25  0.800000   3.980100\n",
       "A20PWAB7G3HDHU               20  0.800000   3.980100\n",
       "AJSJVK40F5HM6                28  0.785714   3.649635\n",
       "A31OCN4MNHUQ6W              184  0.777174   3.472222"
      ]
     },
     "execution_count": 6,
     "metadata": {},
     "output_type": "execute_result"
    }
   ],
   "source": [
    "mask = rater_goodness['category_labels'] >= 20\n",
    "rater_goodness[mask].sort_values(by='correct', ascending = False)[:10]"
   ]
  },
  {
   "cell_type": "markdown",
   "metadata": {},
   "source": [
    "**Question 6**\n",
    "\n",
    "Rating counts versus accuracy analysis.\n",
    "\n",
    "First, we computed some exploratory numerical analysis:\n",
    "\n",
    "Turks who rate more than average number of URLs actually have higher % correctness (about 68%) than the turks who rate less than the average number of URLs (about 64%). The mean correctness is about 65%. This means that for the turks who rate lots of URLs, they are less likely to be low outliers in correctness.  \n",
    "\n",
    "Then, we used a linear regression model to compute the relationship:\n",
    "\n",
    "Referencing the plot's regression line as well as considering the very large p-value, there doesn't appear to be a statistically significant relationship between accuracy and # of URLs. While there are no outliers who rate lots of URLs and have a low correctness score, the coefficient of the linear regression is not high enough to be considered non-zero. The high standard error of category labels in the regression output (0.001) is too high to consider the coefficient (0.0007) non-zero. Thus, based on the linear regression, we do not claim that the number of ratings is strongly related to accuracy. "
   ]
  },
  {
   "cell_type": "code",
   "execution_count": 7,
   "metadata": {},
   "outputs": [
    {
     "name": "stdout",
     "output_type": "stream",
     "text": [
      "Averages of All Raters:\n",
      "\n",
      " category_labels     12.356877\n",
      "correct              0.651262\n",
      "odds               313.667514\n",
      "dtype: float64\n",
      "\n",
      "\n",
      "Turks who rate more than average number of URLs:\n",
      "\n",
      " category_labels    42.656250\n",
      "correct             0.683906\n",
      "odds                3.165815\n",
      "dtype: float64\n",
      "\n",
      "\n",
      "Turks who rate less than average number of URLs:\n",
      "\n",
      " category_labels      2.897561\n",
      "correct              0.641071\n",
      "odds               410.604630\n",
      "dtype: float64\n",
      "                            OLS Regression Results                            \n",
      "==============================================================================\n",
      "Dep. Variable:                correct   R-squared:                       0.002\n",
      "Model:                            OLS   Adj. R-squared:                 -0.002\n",
      "Method:                 Least Squares   F-statistic:                    0.5488\n",
      "Date:                Wed, 05 Aug 2020   Prob (F-statistic):              0.459\n",
      "Time:                        21:39:08   Log-Likelihood:                -94.663\n",
      "No. Observations:                 269   AIC:                             193.3\n",
      "Df Residuals:                     267   BIC:                             200.5\n",
      "Df Model:                           1                                         \n",
      "Covariance Type:            nonrobust                                         \n",
      "===================================================================================\n",
      "                      coef    std err          t      P>|t|      [0.025      0.975]\n",
      "-----------------------------------------------------------------------------------\n",
      "Intercept           0.6431      0.024     27.071      0.000       0.596       0.690\n",
      "category_labels     0.0007      0.001      0.741      0.459      -0.001       0.002\n",
      "==============================================================================\n",
      "Omnibus:                       29.253   Durbin-Watson:                   2.072\n",
      "Prob(Omnibus):                  0.000   Jarque-Bera (JB):               28.396\n",
      "Skew:                          -0.731   Prob(JB):                     6.82e-07\n",
      "Kurtosis:                       2.373   Cond. No.                         30.1\n",
      "==============================================================================\n",
      "\n",
      "Warnings:\n",
      "[1] Standard Errors assume that the covariance matrix of the errors is correctly specified.\n"
     ]
    },
    {
     "data": {
      "text/plain": [
       "<matplotlib.legend.Legend at 0x27ea4f1e3c8>"
      ]
     },
     "execution_count": 7,
     "metadata": {},
     "output_type": "execute_result"
    },
    {
     "data": {
      "image/png": "[encoded data removed]",
      "text/plain": [
       "<Figure size 432x288 with 1 Axes>"
      ]
     },
     "metadata": {
      "needs_background": "light"
     },
     "output_type": "display_data"
    }
   ],
   "source": [
    "print('Averages of All Raters:\\n\\n',rater_goodness.mean())\n",
    "\n",
    "mask = rater_goodness['category_labels']> rater_goodness['category_labels'].mean()\n",
    "print('\\n\\nTurks who rate more than average number of URLs:\\n\\n', rater_goodness[mask].mean())\n",
    "\n",
    "mask = rater_goodness['category_labels'] < rater_goodness['category_labels'].mean()\n",
    "print('\\n\\nTurks who rate less than average number of URLs:\\n\\n', rater_goodness[mask].mean())\n",
    "\n",
    "### importing necessary packages ###\n",
    "import statsmodels.api as sm\n",
    "from patsy import dmatrices\n",
    "### creating the design matrix ###\n",
    "y, X = dmatrices('correct ~ category_labels', data=rater_goodness, return_type='dataframe')\n",
    "### setting up and fitting the model ###\n",
    "model = sm.OLS(y, X)\n",
    "result = model.fit()\n",
    "print(result.summary())\n",
    "### define x, y_pred, y_true ###\n",
    "x = rater_goodness['category_labels']\n",
    "y_actual = rater_goodness['correct']\n",
    "y_expected = result.params['Intercept'] + result.params['category_labels'] * x\n",
    "### Plot ###\n",
    "scatter(x=x, y=y_actual, label='Accuracy vs. Number of Ratings')\n",
    "plot(x, y_expected, color='red', linewidth=2, label='Regression')\n",
    "xlabel('Number of URLs')\n",
    "ylabel('Correct')\n",
    "legend(loc='best')"
   ]
  },
  {
   "cell_type": "markdown",
   "metadata": {},
   "source": [
    "**Question 7**\n",
    "\n",
    "Overall predicted odds. **Note, we DID include URLs that have not been rated by the \"reliable\" turks. These show as 0.00 in their *overall odds.*** Thus, later in question 8, they do default to being predicted as \"G\" because all of the overall odds are equivalent. "
   ]
  },
  {
   "cell_type": "code",
   "execution_count": 11,
   "metadata": {},
   "outputs": [
    {
     "name": "stdout",
     "output_type": "stream",
     "text": [
      "category_labels                                 G         P    R         X\n",
      "url                         isReliable                                    \n",
      "http://0-101.net            True         2.155963  0.000000  0.0  0.000000\n",
      "http://000.cc               True         1.460583  0.000000  0.0  0.000000\n",
      "http://0000.jp              True        14.488244  0.000000  0.0  0.000000\n",
      "http://000relationships.com True         9.914590  1.851852  0.0  0.000000\n",
      "http://000vitamins.com      True         3.784982  0.000000  0.0  0.000000\n",
      "...                                           ...       ...  ...       ...\n",
      "http://zwinky.com           True        16.141443  0.000000  0.0  0.000000\n",
      "http://zylom.com            True         1.735526  0.000000  0.0  0.000000\n",
      "http://zynga.com            True         3.704611  0.000000  0.0  0.000000\n",
      "http://zz868.com            True         1.047852  1.851852  0.0  0.000000\n",
      "http://zzx.cc               True         1.330229  0.000000  0.0  1.620746\n",
      "\n",
      "[10707 rows x 4 columns]\n"
     ]
    }
   ],
   "source": [
    "#who are the reliable turks\n",
    "mask = rater_goodness['category_labels'] >= rater_goodness.category_labels.quantile(0.75)\n",
    "reliable_turks = rater_goodness[mask]\n",
    "\n",
    "# adding a label called isReliable to note if they're a reliable turk\n",
    "labels_unknown['isReliable'] = labels_unknown['turk'].isin(reliable_turks.index)\n",
    "\n",
    "# merging the unknown labels with our odds of each turk\n",
    "merged = (labels_unknown.merge(rater_goodness, left_on = 'turk', right_on='turk', how = 'left', suffixes = ['','_count']))\n",
    "\n",
    "# pivoting by the category labels, reliabiltiy, and url \n",
    "overall_ratings = (merged.pivot_table(index=['category_labels','isReliable'], \n",
    "                     columns='url', \n",
    "                     values='odds',\n",
    "                     fill_value=0, \n",
    "                     aggfunc='prod').unstack())\n",
    "\n",
    "# filtering to view only reliable turks\n",
    "overall_ratings = (overall_ratings.T.loc[(overall_ratings.columns.get_level_values('isReliable') == True)])\n",
    "print(overall_ratings)"
   ]
  },
  {
   "cell_type": "markdown",
   "metadata": {},
   "source": [
    "**Question 8**\n",
    "\n",
    "Predicted categories. Computed top category using max index of each overall odds, and including the overall odds. "
   ]
  },
  {
   "cell_type": "code",
   "execution_count": 13,
   "metadata": {},
   "outputs": [
    {
     "name": "stdout",
     "output_type": "stream",
     "text": [
      "                            top category   top odds\n",
      "url                                                \n",
      "http://0-101.net                       G   2.155963\n",
      "http://000.cc                          G   1.460583\n",
      "http://0000.jp                         G  14.488244\n",
      "http://000relationships.com            G   9.914590\n",
      "http://000vitamins.com                 G   3.784982\n",
      "...                                  ...        ...\n",
      "http://zwinky.com                      G  16.141443\n",
      "http://zylom.com                       G   1.735526\n",
      "http://zynga.com                       G   3.704611\n",
      "http://zz868.com                       P   1.851852\n",
      "http://zzx.cc                          X   1.620746\n",
      "\n",
      "[10707 rows x 2 columns]\n"
     ]
    }
   ],
   "source": [
    "result_75 = pd.concat([Series(overall_ratings.index.get_level_values('url')), Series(overall_ratings.idxmax(axis=1).values), Series(overall_ratings.max(axis=1).values)], axis = 1, keys = ['url','top category','top odds'])\n",
    "result_75 = result_75.set_index('url')\n",
    "print(result_75)"
   ]
  },
  {
   "cell_type": "markdown",
   "metadata": {},
   "source": [
    "**Question 9** \n",
    "\n",
    "Predicted categories using more turks. First, repeated code from Q7 and Q8 to use the quantile = 0.25. \n",
    "\n",
    "Then, printed the DataFrame where we compare the results of result_75 and result_25. \n",
    "\n",
    "So, where are the most errors?\n",
    "G is most often rated the same by both the 75th and 25th percentiles, at 85.3% and then X rated at 78.5%. This makes sense that these are the categories that most turks \"agree\" on as their more easily identifiable as being definitely G-rated or definitely X-rated. Then, there's more errors in R rated at 56.3%, and the **most errors occur in category P at 45.2% correctness.** This makes sense, as sometimes P ratings from the 75th percentile instead get put into the G category by the 25th percentile raters. \n"
   ]
  },
  {
   "cell_type": "code",
   "execution_count": 10,
   "metadata": {},
   "outputs": [
    {
     "name": "stdout",
     "output_type": "stream",
     "text": [
      "top category_75     G    P    R    X    All\n",
      "top category_25                            \n",
      "G                7989  229   22   70   8310\n",
      "P                 847  263   36   12   1158\n",
      "R                 290   65  120   35    510\n",
      "X                 240   25   35  429    729\n",
      "All              9366  582  213  546  10707\n"
     ]
    }
   ],
   "source": [
    "#who are the reliable turks\n",
    "mask = rater_goodness['category_labels'] >= rater_goodness.category_labels.quantile(0.25)\n",
    "reliable_turks = rater_goodness[mask]\n",
    "\n",
    "# adding a label called is reliable to note if they're a reliable turk\n",
    "labels_unknown['isReliable'] = labels_unknown['turk'].isin(reliable_turks.index)\n",
    "\n",
    "# merging the unknown labels with our odds of each turk\n",
    "merged = (labels_unknown.merge(rater_goodness, left_on = 'turk', right_on='turk', how = 'left', suffixes = ['','_count']))\n",
    "\n",
    "# pivoting by the category labels, reliabiltiy, and url \n",
    "overall_ratings = (merged.pivot_table(index=['category_labels','isReliable'], \n",
    "                     columns='url', \n",
    "                     values='odds',\n",
    "                     fill_value=0, \n",
    "                     aggfunc='prod').unstack())\n",
    "\n",
    "# filtering to view only reliable turks\n",
    "overall_ratings = (overall_ratings.T.loc[(overall_ratings.columns.get_level_values('isReliable') == True)])\n",
    "\n",
    "# creating predicted categories\n",
    "result_25 = pd.concat([Series(overall_ratings.index.get_level_values('url')), Series(overall_ratings.idxmax(axis=1).values), Series(overall_ratings.max(axis=1).values)], axis = 1, keys = ['url','top category','top odds'])\n",
    "result_25 = result_25.set_index('url')\n",
    "\n",
    "compared = result_75.merge(result_25, left_on = 'url', right_on = 'url', suffixes = ['_75','_25'])\n",
    "\n",
    "# pivoted comparison\n",
    "pivoted = compared.pivot_table(index='top category_25',\n",
    "                               columns='top category_75',\n",
    "                               values = 'top odds_75',\n",
    "                               fill_value=0,\n",
    "                               aggfunc='count',\n",
    "                               margins=True)\n",
    "\n",
    "print(pivoted)"
   ]
  }
 ],
 "metadata": {
  "kernelspec": {
   "display_name": "Python 3",
   "language": "python",
   "name": "python3"
  },
  "language_info": {
   "codemirror_mode": {
    "name": "ipython",
    "version": 3
   },
   "file_extension": ".py",
   "mimetype": "text/x-python",
   "name": "python",
   "nbconvert_exporter": "python",
   "pygments_lexer": "ipython3",
   "version": "3.7.6"
  }
 },
 "nbformat": 4,
 "nbformat_minor": 4
}
